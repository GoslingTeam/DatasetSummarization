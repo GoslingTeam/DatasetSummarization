{
 "cells": [
  {
   "cell_type": "code",
   "execution_count": 1,
   "id": "5f2825a1-a59f-43ae-a55a-46d797f5f9c3",
   "metadata": {},
   "outputs": [],
   "source": [
    "import sys\n",
    "sys.path.insert(1, '/home/user/georgy/DatasetSummarization/MetricsEvaluation')\n",
    "\n",
    "from metrics_evaluation import MetricsEvaluator\n",
    "\n",
    "evaluator = MetricsEvaluator()"
   ]
  },
  {
   "cell_type": "code",
   "execution_count": 2,
   "id": "64e5b0e9-53b5-4a4e-b172-22910d5fd292",
   "metadata": {},
   "outputs": [],
   "source": [
    "import os\n",
    "\n",
    "def load_texts(path):\n",
    "    texts = []\n",
    "    for filename in os.listdir(path):\n",
    "        full_filename = os.path.join(path, filename)\n",
    "        if os.path.isdir(full_filename):\n",
    "            continue\n",
    "        with open(full_filename) as f:\n",
    "            texts.append(f.read())\n",
    "    return texts"
   ]
  },
  {
   "cell_type": "markdown",
   "id": "317e9dd5-7055-4dff-bb19-e1d49c3798f8",
   "metadata": {},
   "source": [
    "## Collection Method"
   ]
  },
  {
   "cell_type": "code",
   "execution_count": 41,
   "id": "d2346f04-bf32-4260-90dc-7dcfc0beefc0",
   "metadata": {},
   "outputs": [
    {
     "name": "stderr",
     "output_type": "stream",
     "text": [
      "/root/miniconda3/envs/ncs_georgy/lib/python3.11/site-packages/nltk/translate/bleu_score.py:552: UserWarning: \n",
      "The hypothesis contains 0 counts of 2-gram overlaps.\n",
      "Therefore the BLEU score evaluates to 0, independently of\n",
      "how many N-gram overlaps of lower order it contains.\n",
      "Consider using lower n-gram order or use SmoothingFunction()\n",
      "  warnings.warn(_msg)\n",
      "/root/miniconda3/envs/ncs_georgy/lib/python3.11/site-packages/nltk/translate/bleu_score.py:552: UserWarning: \n",
      "The hypothesis contains 0 counts of 3-gram overlaps.\n",
      "Therefore the BLEU score evaluates to 0, independently of\n",
      "how many N-gram overlaps of lower order it contains.\n",
      "Consider using lower n-gram order or use SmoothingFunction()\n",
      "  warnings.warn(_msg)\n",
      "/root/miniconda3/envs/ncs_georgy/lib/python3.11/site-packages/nltk/translate/bleu_score.py:552: UserWarning: \n",
      "The hypothesis contains 0 counts of 4-gram overlaps.\n",
      "Therefore the BLEU score evaluates to 0, independently of\n",
      "how many N-gram overlaps of lower order it contains.\n",
      "Consider using lower n-gram order or use SmoothingFunction()\n",
      "  warnings.warn(_msg)\n",
      "Warning: Empty reference sentence detected; setting raw BERTScores to 0.\n"
     ]
    },
    {
     "data": {
      "text/plain": [
       "{'bleu': 1.0561831269935971e-231,\n",
       " 'rouge': {'precision': 0.08713876755355408,\n",
       "  'recall': 0.18699360341151386,\n",
       "  'f1': 0.1067728153549049},\n",
       " 'meteor': 0.06180370532249776,\n",
       " 'bertscore': {'precision': 0.5807156562805176,\n",
       "  'recall': 0.67442786693573,\n",
       "  'f1': 0.6232779026031494}}"
      ]
     },
     "execution_count": 41,
     "metadata": {},
     "output_type": "execute_result"
    }
   ],
   "source": [
    "common_folder = os.path.join('/', 'home', 'user', 'georgy', 'DatasetSummarization', 'DatasetSummarization', 'KaggleMigrationDataset')\n",
    "responses_folder = os.path.join(common_folder, 'CollectionMethodSaigaLlamaResponses')\n",
    "references_folder = os.path.join(common_folder, 'CollectionMethodReferences')\n",
    "\n",
    "references = load_texts(references_folder)\n",
    "responses = load_texts(responses_folder)\n",
    "\n",
    "evaluator.calculate_scores(responses, references)"
   ]
  },
  {
   "cell_type": "markdown",
   "id": "7f6029d5-7759-4a91-92e2-350a668f55c1",
   "metadata": {},
   "source": [
    "## Dataset Structure"
   ]
  },
  {
   "cell_type": "code",
   "execution_count": 42,
   "id": "3c514fb1-136a-4958-8118-b792aaa56054",
   "metadata": {},
   "outputs": [
    {
     "name": "stderr",
     "output_type": "stream",
     "text": [
      "Warning: Empty reference sentence detected; setting raw BERTScores to 0.\n"
     ]
    },
    {
     "data": {
      "text/plain": [
       "{'bleu': 9.494632137524348e-156,\n",
       " 'rouge': {'precision': 0.339125844647551,\n",
       "  'recall': 0.36449091543690054,\n",
       "  'f1': 0.30111301371986554},\n",
       " 'meteor': 0.11310796565624137,\n",
       " 'bertscore': {'precision': 0.6856127977371216,\n",
       "  'recall': 0.6822730898857117,\n",
       "  'f1': 0.6832371950149536}}"
      ]
     },
     "execution_count": 42,
     "metadata": {},
     "output_type": "execute_result"
    }
   ],
   "source": [
    "common_folder = os.path.join('/', 'home', 'user', 'georgy', 'DatasetSummarization', 'DatasetSummarization', 'KaggleMigrationDataset')\n",
    "responses_folder = os.path.join(common_folder, 'DatasetStructureSaigaLlamaResponses')\n",
    "references_folder = os.path.join(common_folder, 'DatasetStructureReferences')\n",
    "\n",
    "references = load_texts(references_folder)\n",
    "responses = load_texts(responses_folder)\n",
    "\n",
    "evaluator.calculate_scores(responses, references)"
   ]
  },
  {
   "cell_type": "markdown",
   "id": "f2ef66c0-0071-4326-97c8-3e445b94cce3",
   "metadata": {},
   "source": [
    "## Potential Uses"
   ]
  },
  {
   "cell_type": "code",
   "execution_count": 4,
   "id": "7b87516f-1731-4f36-b6ce-0e85a259db71",
   "metadata": {},
   "outputs": [
    {
     "name": "stderr",
     "output_type": "stream",
     "text": [
      "/root/miniconda3/envs/ncs_georgy/lib/python3.11/site-packages/nltk/translate/bleu_score.py:552: UserWarning: \n",
      "The hypothesis contains 0 counts of 3-gram overlaps.\n",
      "Therefore the BLEU score evaluates to 0, independently of\n",
      "how many N-gram overlaps of lower order it contains.\n",
      "Consider using lower n-gram order or use SmoothingFunction()\n",
      "  warnings.warn(_msg)\n",
      "/root/miniconda3/envs/ncs_georgy/lib/python3.11/site-packages/nltk/translate/bleu_score.py:552: UserWarning: \n",
      "The hypothesis contains 0 counts of 4-gram overlaps.\n",
      "Therefore the BLEU score evaluates to 0, independently of\n",
      "how many N-gram overlaps of lower order it contains.\n",
      "Consider using lower n-gram order or use SmoothingFunction()\n",
      "  warnings.warn(_msg)\n",
      "Warning: Empty reference sentence detected; setting raw BERTScores to 0.\n"
     ]
    },
    {
     "data": {
      "text/plain": [
       "{'bleu': 1.0075297004409586e-155,\n",
       " 'rouge': {'precision': 0.0029850746268656717,\n",
       "  'recall': 0.014925373134328358,\n",
       "  'f1': 0.0049751243781094535},\n",
       " 'meteor': 0.13241788092419488,\n",
       " 'bertscore': {'precision': 0.6986300349235535,\n",
       "  'recall': 0.7297434210777283,\n",
       "  'f1': 0.7134894728660583}}"
      ]
     },
     "execution_count": 4,
     "metadata": {},
     "output_type": "execute_result"
    }
   ],
   "source": [
    "common_folder = os.path.join('/', 'home', 'user', 'georgy', 'DatasetSummarization', 'DatasetSummarization', 'KaggleMigrationDataset')\n",
    "responses_folder = os.path.join(common_folder, 'PotentialUsesSaigaLlamaResponses')\n",
    "references_folder = os.path.join(common_folder, 'PotentialUsesReferences')\n",
    "\n",
    "references = load_texts(references_folder)\n",
    "responses = load_texts(responses_folder)\n",
    "\n",
    "evaluator.calculate_scores(responses, references)"
   ]
  },
  {
   "cell_type": "code",
   "execution_count": null,
   "id": "02ea9c21-0e22-4587-8b59-eaba36f10354",
   "metadata": {},
   "outputs": [],
   "source": []
  }
 ],
 "metadata": {
  "kernelspec": {
   "display_name": "ncs_georgy",
   "language": "python",
   "name": "ncs_georgy"
  },
  "language_info": {
   "codemirror_mode": {
    "name": "ipython",
    "version": 3
   },
   "file_extension": ".py",
   "mimetype": "text/x-python",
   "name": "python",
   "nbconvert_exporter": "python",
   "pygments_lexer": "ipython3",
   "version": "3.11.4"
  }
 },
 "nbformat": 4,
 "nbformat_minor": 5
}
