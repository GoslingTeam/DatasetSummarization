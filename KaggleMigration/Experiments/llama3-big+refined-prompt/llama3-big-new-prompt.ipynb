{
 "cells": [
  {
   "cell_type": "code",
   "execution_count": 1,
   "id": "3311b1a4-3676-472f-a951-923955e6fff4",
   "metadata": {},
   "outputs": [],
   "source": [
    "import os\n",
    "import ollama"
   ]
  },
  {
   "cell_type": "code",
   "execution_count": 2,
   "id": "ec07c541-c4f9-40b7-848f-153b48050922",
   "metadata": {},
   "outputs": [],
   "source": [
    "import sys\n",
    "sys.path.insert(1, '/home/user/georgy/DatasetSummarization/MetricsEvaluation')\n",
    "\n",
    "from metrics_evaluation import MetricsEvaluator\n",
    "\n",
    "evaluator = MetricsEvaluator()"
   ]
  },
  {
   "cell_type": "code",
   "execution_count": 3,
   "id": "eb31a531-e33c-4c70-9d85-1d89470dfc95",
   "metadata": {},
   "outputs": [],
   "source": [
    "import os\n",
    "\n",
    "def load_texts(path):\n",
    "    texts = []\n",
    "    for filename in os.listdir(path):\n",
    "        full_filename = os.path.join(path, filename)\n",
    "        if os.path.isdir(full_filename):\n",
    "            continue\n",
    "        with open(full_filename) as f:\n",
    "            texts.append(f.read())\n",
    "    return texts"
   ]
  },
  {
   "cell_type": "markdown",
   "id": "94bd239d-e33e-483f-9bbe-048750773af0",
   "metadata": {},
   "source": [
    "## Collection method"
   ]
  },
  {
   "cell_type": "code",
   "execution_count": 5,
   "id": "fd393dde-c48a-48ff-b4f0-461bd4368e17",
   "metadata": {},
   "outputs": [
    {
     "name": "stderr",
     "output_type": "stream",
     "text": [
      "100%|██████████| 68/68 [05:46<00:00,  5.09s/it]\n"
     ]
    }
   ],
   "source": [
    "from tqdm import tqdm\n",
    "\n",
    "dir = os.path.join('/', 'home', 'user', 'georgy', 'DatasetSummarization', 'DatasetSummarization', 'KaggleMigration', 'Experiments', 'llama3-big+refined-prompt', 'CollectionMethodPrompts')\n",
    "output_dir = 'CollectionMethodResponses'\n",
    "\n",
    "def generate(prompt):\n",
    "    result = ollama.generate(model='llama3:70b', prompt=prompt)\n",
    "    response = result['response']\n",
    "    response = response.strip()\n",
    "    return response\n",
    "\n",
    "for filename in tqdm(os.listdir(dir)):\n",
    "    if os.path.isdir(os.path.join(dir, filename)):\n",
    "        continue\n",
    "    with open(os.path.join(dir, filename), 'r') as f:\n",
    "        prompt = f.read()\n",
    "    response = generate(prompt)\n",
    "    with open(os.path.join(output_dir, filename), 'w') as f:\n",
    "        f.write(response)\n",
    "    # break"
   ]
  },
  {
   "cell_type": "code",
   "execution_count": 6,
   "id": "6c607a52-1f41-45fe-a379-3fb2de745468",
   "metadata": {},
   "outputs": [
    {
     "name": "stderr",
     "output_type": "stream",
     "text": [
      "/root/miniconda3/envs/ncs_georgy/lib/python3.11/site-packages/nltk/translate/bleu_score.py:552: UserWarning: \n",
      "The hypothesis contains 0 counts of 2-gram overlaps.\n",
      "Therefore the BLEU score evaluates to 0, independently of\n",
      "how many N-gram overlaps of lower order it contains.\n",
      "Consider using lower n-gram order or use SmoothingFunction()\n",
      "  warnings.warn(_msg)\n",
      "/root/miniconda3/envs/ncs_georgy/lib/python3.11/site-packages/nltk/translate/bleu_score.py:552: UserWarning: \n",
      "The hypothesis contains 0 counts of 3-gram overlaps.\n",
      "Therefore the BLEU score evaluates to 0, independently of\n",
      "how many N-gram overlaps of lower order it contains.\n",
      "Consider using lower n-gram order or use SmoothingFunction()\n",
      "  warnings.warn(_msg)\n",
      "/root/miniconda3/envs/ncs_georgy/lib/python3.11/site-packages/nltk/translate/bleu_score.py:552: UserWarning: \n",
      "The hypothesis contains 0 counts of 4-gram overlaps.\n",
      "Therefore the BLEU score evaluates to 0, independently of\n",
      "how many N-gram overlaps of lower order it contains.\n",
      "Consider using lower n-gram order or use SmoothingFunction()\n",
      "  warnings.warn(_msg)\n",
      "Warning: Empty reference sentence detected; setting raw BERTScores to 0.\n"
     ]
    },
    {
     "data": {
      "text/plain": [
       "{'bleu': 1.0195212992738098e-231,\n",
       " 'rouge': {'precision': 0.10035096852098799,\n",
       "  'recall': 0.08610518834399432,\n",
       "  'f1': 0.06686176958345527},\n",
       " 'meteor': 0.10270066390096057,\n",
       " 'bertscore': {'precision': 0.627396285533905,\n",
       "  'recall': 0.6744146943092346,\n",
       "  'f1': 0.6493370532989502}}"
      ]
     },
     "execution_count": 6,
     "metadata": {},
     "output_type": "execute_result"
    }
   ],
   "source": [
    "common_folder = os.path.join('/', 'home', 'user', 'georgy', 'DatasetSummarization', 'DatasetSummarization', 'KaggleMigration')\n",
    "responses_folder = os.path.join(common_folder, 'Experiments', 'llama3-big+refined-prompt', 'CollectionMethodResponses')\n",
    "references_folder = os.path.join(common_folder, 'KaggleMigrationDataset', 'CollectionMethodReferences')\n",
    "\n",
    "references = load_texts(references_folder)\n",
    "responses = load_texts(responses_folder)\n",
    "\n",
    "evaluator.calculate_scores(responses, references)"
   ]
  },
  {
   "cell_type": "markdown",
   "id": "ee9ffae5-8b10-4656-8d9c-1efe456c936a",
   "metadata": {},
   "source": [
    "## Dataset Structure"
   ]
  },
  {
   "cell_type": "code",
   "execution_count": 7,
   "id": "5148e1dc-075f-4773-b43b-178e7cb21a4e",
   "metadata": {},
   "outputs": [
    {
     "name": "stderr",
     "output_type": "stream",
     "text": [
      "100%|██████████| 68/68 [06:28<00:00,  5.71s/it]\n"
     ]
    }
   ],
   "source": [
    "from tqdm import tqdm\n",
    "\n",
    "dir = os.path.join(\n",
    "    '/', 'home', 'user', 'georgy', 'DatasetSummarization', 'DatasetSummarization',\n",
    "    'KaggleMigration', 'Experiments', 'llama3-big+refined-prompt', 'DatasetStructurePrompts'\n",
    ")\n",
    "output_dir = 'DatasetStructureResponses'\n",
    "\n",
    "def generate(prompt):\n",
    "    result = ollama.generate(model='llama3:70b', prompt=prompt)\n",
    "    response = result['response']\n",
    "    response = response.strip()\n",
    "    return response\n",
    "\n",
    "for filename in tqdm(os.listdir(dir)):\n",
    "    if os.path.isdir(os.path.join(dir, filename)):\n",
    "        continue\n",
    "    with open(os.path.join(dir, filename), 'r') as f:\n",
    "        prompt = f.read()\n",
    "    response = generate(prompt)\n",
    "    with open(os.path.join(output_dir, filename), 'w') as f:\n",
    "        f.write(response)\n",
    "    # break"
   ]
  },
  {
   "cell_type": "code",
   "execution_count": 8,
   "id": "5b3ae0ed-7b8e-4ed2-b975-968dbb073cdb",
   "metadata": {},
   "outputs": [
    {
     "name": "stderr",
     "output_type": "stream",
     "text": [
      "/root/miniconda3/envs/ncs_georgy/lib/python3.11/site-packages/nltk/translate/bleu_score.py:552: UserWarning: \n",
      "The hypothesis contains 0 counts of 3-gram overlaps.\n",
      "Therefore the BLEU score evaluates to 0, independently of\n",
      "how many N-gram overlaps of lower order it contains.\n",
      "Consider using lower n-gram order or use SmoothingFunction()\n",
      "  warnings.warn(_msg)\n",
      "/root/miniconda3/envs/ncs_georgy/lib/python3.11/site-packages/nltk/translate/bleu_score.py:552: UserWarning: \n",
      "The hypothesis contains 0 counts of 4-gram overlaps.\n",
      "Therefore the BLEU score evaluates to 0, independently of\n",
      "how many N-gram overlaps of lower order it contains.\n",
      "Consider using lower n-gram order or use SmoothingFunction()\n",
      "  warnings.warn(_msg)\n",
      "Warning: Empty reference sentence detected; setting raw BERTScores to 0.\n"
     ]
    },
    {
     "data": {
      "text/plain": [
       "{'bleu': 9.198483875627741e-156,\n",
       " 'rouge': {'precision': 0.4862436287029651,\n",
       "  'recall': 0.2889135394085124,\n",
       "  'f1': 0.3008313272418307},\n",
       " 'meteor': 0.1888946585184821,\n",
       " 'bertscore': {'precision': 0.7235596776008606,\n",
       "  'recall': 0.6599550843238831,\n",
       "  'f1': 0.6897943615913391}}"
      ]
     },
     "execution_count": 8,
     "metadata": {},
     "output_type": "execute_result"
    }
   ],
   "source": [
    "common_folder = os.path.join('/', 'home', 'user', 'georgy', 'DatasetSummarization', 'DatasetSummarization', 'KaggleMigration')\n",
    "responses_folder = os.path.join(common_folder, 'Experiments', 'llama3-big+refined-prompt', 'DatasetStructureResponses')\n",
    "references_folder = os.path.join(common_folder, 'KaggleMigrationDataset', 'DatasetStructureReferences')\n",
    "\n",
    "references = load_texts(references_folder)\n",
    "responses = load_texts(responses_folder)\n",
    "\n",
    "evaluator.calculate_scores(responses, references)"
   ]
  },
  {
   "cell_type": "markdown",
   "id": "c9c93b91-f8a4-419d-9978-7f9281185ff9",
   "metadata": {},
   "source": [
    "## Potential Uses"
   ]
  },
  {
   "cell_type": "code",
   "execution_count": 9,
   "id": "621883dc-065f-4c4a-8c59-2c2c9a063cda",
   "metadata": {},
   "outputs": [
    {
     "name": "stderr",
     "output_type": "stream",
     "text": [
      "100%|██████████| 68/68 [07:32<00:00,  6.66s/it]\n"
     ]
    }
   ],
   "source": [
    "from tqdm import tqdm\n",
    "\n",
    "dir = os.path.join(\n",
    "    '/', 'home', 'user', 'georgy', 'DatasetSummarization', 'DatasetSummarization',\n",
    "    'KaggleMigration', 'Experiments', 'llama3-big+refined-prompt', 'PotentialUsesPrompts'\n",
    ")\n",
    "output_dir = 'PotentialUsesResponses'\n",
    "\n",
    "def generate(prompt):\n",
    "    result = ollama.generate(model='llama3:70b', prompt=prompt)\n",
    "    response = result['response']\n",
    "    response = response.strip()\n",
    "    return response\n",
    "\n",
    "for filename in tqdm(os.listdir(dir)):\n",
    "    if os.path.isdir(os.path.join(dir, filename)):\n",
    "        continue\n",
    "    with open(os.path.join(dir, filename), 'r') as f:\n",
    "        prompt = f.read()\n",
    "    response = generate(prompt)\n",
    "    with open(os.path.join(output_dir, filename), 'w') as f:\n",
    "        f.write(response)\n",
    "    # break"
   ]
  },
  {
   "cell_type": "code",
   "execution_count": 10,
   "id": "492f9256-a3b7-42c1-9059-24ee61a16f95",
   "metadata": {},
   "outputs": [
    {
     "name": "stderr",
     "output_type": "stream",
     "text": [
      "Warning: Empty reference sentence detected; setting raw BERTScores to 0.\n"
     ]
    },
    {
     "data": {
      "text/plain": [
       "{'bleu': 9.885178078891996e-156,\n",
       " 'rouge': {'precision': 0.004975124378109453,\n",
       "  'recall': 0.0042643923240938165,\n",
       "  'f1': 0.004592422502870263},\n",
       " 'meteor': 0.2285103088503656,\n",
       " 'bertscore': {'precision': 0.7544823884963989,\n",
       "  'recall': 0.7405121922492981,\n",
       "  'f1': 0.7470996975898743}}"
      ]
     },
     "execution_count": 10,
     "metadata": {},
     "output_type": "execute_result"
    }
   ],
   "source": [
    "common_folder = os.path.join('/', 'home', 'user', 'georgy', 'DatasetSummarization', 'DatasetSummarization', 'KaggleMigration')\n",
    "responses_folder = os.path.join(common_folder, 'Experiments', 'llama3-big+refined-prompt', 'PotentialUsesResponses')\n",
    "references_folder = os.path.join(common_folder, 'KaggleMigrationDataset', 'PotentialUsesReferences')\n",
    "\n",
    "references = load_texts(references_folder)\n",
    "responses = load_texts(responses_folder)\n",
    "\n",
    "evaluator.calculate_scores(responses, references)"
   ]
  },
  {
   "cell_type": "code",
   "execution_count": null,
   "id": "19f42fd4-1794-4737-8b46-435c0288793b",
   "metadata": {},
   "outputs": [],
   "source": []
  }
 ],
 "metadata": {
  "kernelspec": {
   "display_name": "ncs_georgy",
   "language": "python",
   "name": "ncs_georgy"
  },
  "language_info": {
   "codemirror_mode": {
    "name": "ipython",
    "version": 3
   },
   "file_extension": ".py",
   "mimetype": "text/x-python",
   "name": "python",
   "nbconvert_exporter": "python",
   "pygments_lexer": "ipython3",
   "version": "3.11.4"
  }
 },
 "nbformat": 4,
 "nbformat_minor": 5
}
