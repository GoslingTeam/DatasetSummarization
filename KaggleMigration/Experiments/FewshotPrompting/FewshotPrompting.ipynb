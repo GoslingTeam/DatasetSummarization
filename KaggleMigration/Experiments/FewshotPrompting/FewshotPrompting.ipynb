{
 "cells": [
  {
   "cell_type": "code",
   "execution_count": 6,
   "id": "3311b1a4-3676-472f-a951-923955e6fff4",
   "metadata": {},
   "outputs": [],
   "source": [
    "import os\n",
    "import ollama"
   ]
  },
  {
   "cell_type": "code",
   "execution_count": 7,
   "id": "ec07c541-c4f9-40b7-848f-153b48050922",
   "metadata": {},
   "outputs": [],
   "source": [
    "import sys\n",
    "sys.path.insert(1, '/home/user/georgy/DatasetSummarization/MetricsEvaluation')\n",
    "\n",
    "from metrics_evaluation import MetricsEvaluator\n",
    "\n",
    "evaluator = MetricsEvaluator()"
   ]
  },
  {
   "cell_type": "code",
   "execution_count": 8,
   "id": "eb31a531-e33c-4c70-9d85-1d89470dfc95",
   "metadata": {},
   "outputs": [],
   "source": [
    "import os\n",
    "\n",
    "def load_texts(path):\n",
    "    texts = []\n",
    "    for filename in os.listdir(path):\n",
    "        full_filename = os.path.join(path, filename)\n",
    "        if os.path.isdir(full_filename):\n",
    "            continue\n",
    "        with open(full_filename) as f:\n",
    "            texts.append(f.read())\n",
    "    return texts"
   ]
  },
  {
   "cell_type": "markdown",
   "id": "94bd239d-e33e-483f-9bbe-048750773af0",
   "metadata": {},
   "source": [
    "## Collection method"
   ]
  },
  {
   "cell_type": "code",
   "execution_count": 12,
   "id": "97402886-9450-4fa0-94ac-96bddfaaf336",
   "metadata": {},
   "outputs": [
    {
     "name": "stdout",
     "output_type": "stream",
     "text": [
      "ПРИМЕРЫ АБЗАЦЕВ ТЕКСТА ОПИСЫВАЮЩЕГО КАК БЫЛИ СОБРАНЫ ДАННЫЕ:\n",
      "Пример 1:\n",
      "Сбор данных включал генерацию ответов на различные вопросы по программированию моделью CodeLlama.\n",
      "\n",
      "Пример 2:\n",
      "В предоставленной информации нет сведений о том, как данные из датасета были собраны.\n",
      "\n",
      "Пример 3:\n",
      "Данные из датасета \"Anime Recommendations Database\" были собраны с сайта myanimelist.net, где 76 000 пользователей предоставили свои рекомендации. Датасет включает две части: одну с информацией о аниме (название, жанр, тип, количество серий, рейтинг и число участников), а другую с оценками, которые пользователи ставили различным аниме.\n",
      "\n",
      "\n"
     ]
    }
   ],
   "source": [
    "response_examples = [\n",
    "    \"Сбор данных включал генерацию ответов на различные вопросы по программированию моделью CodeLlama.\",\n",
    "    \"В предоставленной информации нет сведений о том, как данные из датасета были собраны.\",\n",
    "    \"Данные из датасета \\\"Anime Recommendations Database\\\" были собраны с сайта myanimelist.net, где 76 000 пользователей предоставили свои рекомендации. Датасет включает две части: одну с информацией о аниме (название, жанр, тип, количество серий, рейтинг и число участников), а другую с оценками, которые пользователи ставили различным аниме.\"\n",
    "]\n",
    "\n",
    "response_examples_prompt = \"ПРИМЕРЫ АБЗАЦЕВ ТЕКСТА ОПИСЫВАЮЩЕГО КАК БЫЛИ СОБРАНЫ ДАННЫЕ:\\n\"\n",
    "for i, ex in enumerate(response_examples):\n",
    "    response_examples_prompt += f\"Пример {i+1}:\\n{ex}\\n\\n\"\n",
    "\n",
    "print(response_examples_prompt)"
   ]
  },
  {
   "cell_type": "code",
   "execution_count": 13,
   "id": "45ac3023-35f7-4b1b-a98e-b596b3566ed3",
   "metadata": {},
   "outputs": [
    {
     "data": {
      "text/plain": [
       "'Используй информацию из секций, обозначенных ЗАГЛАВНЫМИ буквами, чтобы составить один абзац текста описывающий как данные из датасета были собраны. Если в секциях выше нет информации о том, как данные были собраны, то просто сообщи об этом. Свой ответ составь на русском языке, формулируя ответ похожим на ПРИМЕРЫ АБЗАЦЕВ ТЕКСТА ОПИСЫВАЮЩЕГО КАК БЫЛИ СОБРАНЫ ДАННЫЕ. '"
      ]
     },
     "execution_count": 13,
     "metadata": {},
     "output_type": "execute_result"
    }
   ],
   "source": [
    "instruction = \"Используй информацию из секций, обозначенных ЗАГЛАВНЫМИ буквами, чтобы составить один абзац текста описывающий как данные из датасета были собраны. \"\n",
    "instruction += \"Если в секциях выше нет информации о том, как данные были собраны, то просто сообщи об этом. \"\n",
    "instruction += \"Свой ответ составь на русском языке, формулируя ответ похожим на ПРИМЕРЫ АБЗАЦЕВ ТЕКСТА ОПИСЫВАЮЩЕГО КАК БЫЛИ СОБРАНЫ ДАННЫЕ. \"\n",
    "\n",
    "instruction"
   ]
  },
  {
   "cell_type": "code",
   "execution_count": 18,
   "id": "6d3c9955-00be-4a84-8eca-d34543ed1f1b",
   "metadata": {},
   "outputs": [],
   "source": [
    "dir = 'CollectionMethodPrompts'\n",
    "\n",
    "for filename in os.listdir(dir):\n",
    "    if os.path.isdir(os.path.join(dir, filename)):\n",
    "        continue\n",
    "    # print(filename)\n",
    "    with open(os.path.join(dir, filename), 'r') as f:\n",
    "        prompt = f.read()\n",
    "    paragraphs = prompt.split('\\n\\n')\n",
    "    paragraphs = paragraphs[:-1]\n",
    "    dataset_prompt = '\\n\\n'.join(paragraphs)\n",
    "    prompt = f\"{dataset_prompt}\\n\\n{response_examples_prompt}\\n\\n{instruction}\"\n",
    "    with open(os.path.join(dir, filename), 'w') as f:\n",
    "        f.write(prompt)\n",
    "    # break"
   ]
  },
  {
   "cell_type": "code",
   "execution_count": 19,
   "id": "fd393dde-c48a-48ff-b4f0-461bd4368e17",
   "metadata": {},
   "outputs": [
    {
     "name": "stderr",
     "output_type": "stream",
     "text": [
      "100%|██████████| 68/68 [01:25<00:00,  1.26s/it]\n"
     ]
    }
   ],
   "source": [
    "from tqdm import tqdm\n",
    "\n",
    "output_dir = 'CollectionMethodResponses'\n",
    "\n",
    "def generate(prompt):\n",
    "    result = ollama.generate(model='saiga-llama3-t0', prompt=prompt)\n",
    "    response = result['response']\n",
    "    response = response.strip()\n",
    "    return response\n",
    "\n",
    "for filename in tqdm(os.listdir(dir)):\n",
    "    if os.path.isdir(os.path.join(dir, filename)):\n",
    "        continue\n",
    "    with open(os.path.join(dir, filename), 'r') as f:\n",
    "        prompt = f.read()\n",
    "    response = generate(prompt)\n",
    "    with open(os.path.join(output_dir, filename), 'w') as f:\n",
    "        f.write(response)\n",
    "    # break"
   ]
  },
  {
   "cell_type": "code",
   "execution_count": 21,
   "id": "6c607a52-1f41-45fe-a379-3fb2de745468",
   "metadata": {},
   "outputs": [
    {
     "name": "stderr",
     "output_type": "stream",
     "text": [
      "/root/miniconda3/envs/ncs_georgy/lib/python3.11/site-packages/nltk/translate/bleu_score.py:552: UserWarning: \n",
      "The hypothesis contains 0 counts of 2-gram overlaps.\n",
      "Therefore the BLEU score evaluates to 0, independently of\n",
      "how many N-gram overlaps of lower order it contains.\n",
      "Consider using lower n-gram order or use SmoothingFunction()\n",
      "  warnings.warn(_msg)\n",
      "/root/miniconda3/envs/ncs_georgy/lib/python3.11/site-packages/nltk/translate/bleu_score.py:552: UserWarning: \n",
      "The hypothesis contains 0 counts of 3-gram overlaps.\n",
      "Therefore the BLEU score evaluates to 0, independently of\n",
      "how many N-gram overlaps of lower order it contains.\n",
      "Consider using lower n-gram order or use SmoothingFunction()\n",
      "  warnings.warn(_msg)\n",
      "/root/miniconda3/envs/ncs_georgy/lib/python3.11/site-packages/nltk/translate/bleu_score.py:552: UserWarning: \n",
      "The hypothesis contains 0 counts of 4-gram overlaps.\n",
      "Therefore the BLEU score evaluates to 0, independently of\n",
      "how many N-gram overlaps of lower order it contains.\n",
      "Consider using lower n-gram order or use SmoothingFunction()\n",
      "  warnings.warn(_msg)\n",
      "Warning: Empty reference sentence detected; setting raw BERTScores to 0.\n"
     ]
    },
    {
     "data": {
      "text/plain": [
       "{'bleu': 1.0329095656883166e-231,\n",
       " 'rouge': {'precision': 0.15711825487944892,\n",
       "  'recall': 0.1855721393034826,\n",
       "  'f1': 0.16018285197389676},\n",
       " 'meteor': 0.15206631318427716,\n",
       " 'bertscore': {'precision': 0.6605818867683411,\n",
       "  'recall': 0.7059652805328369,\n",
       "  'f1': 0.681296706199646}}"
      ]
     },
     "execution_count": 21,
     "metadata": {},
     "output_type": "execute_result"
    }
   ],
   "source": [
    "common_folder = os.path.join('/', 'home', 'user', 'georgy', 'DatasetSummarization', 'DatasetSummarization', 'KaggleMigration')\n",
    "responses_folder = os.path.join(common_folder, 'Experiments', 'FewshotPrompting', 'CollectionMethodResponses')\n",
    "references_folder = os.path.join(common_folder, 'KaggleMigrationDataset', 'CollectionMethodReferences')\n",
    "\n",
    "references = load_texts(references_folder)\n",
    "responses = load_texts(responses_folder)\n",
    "\n",
    "evaluator.calculate_scores(responses, references)"
   ]
  },
  {
   "cell_type": "markdown",
   "id": "ee9ffae5-8b10-4656-8d9c-1efe456c936a",
   "metadata": {},
   "source": [
    "## Dataset Structure"
   ]
  },
  {
   "cell_type": "code",
   "execution_count": 35,
   "id": "5148e1dc-075f-4773-b43b-178e7cb21a4e",
   "metadata": {},
   "outputs": [
    {
     "name": "stdout",
     "output_type": "stream",
     "text": [
      "Пример 1:\n",
      "Датасет содержит подробную информацию о 52,000 анимационных фильмах, собранную с помощью TMDB API. Основной файл датасета называется \"Animation_Movies.csv\" и включает различные атрибуты для каждого фильма, такие как \"id\", \"title\" (название), \"vote_average\" (средняя оценка), \"vote_count\" (количество голосов), \"status\" (статус), \"release_date\" (дата выпуска), \"revenue\" (доход), \"runtime\" (длительность), \"adult\" (для взрослых), \"backdrop_path\" (путь к фоновому изображению), \"budget\" (бюджет), \"homepage\" (домашняя страница), \"imdb_id\", \"original_language\" (оригинальный язык), \"original_title\" (оригинальное название), \"overview\" (обзор), \"popularity\" (популярность), \"poster_path\" (путь к постеру), \"tagline\" (слоган), \"genres\" (жанры), \"production_companies\" (компании-производители), \"production_countries\" (страны-производители) и \"spoken_languages\" (разговорные языки).\n",
      "\n",
      "Пример 2:\n",
      "Датасет содержит данные для классификации и анализа DDoS-атак. Один из основных файлов датасета называется `train_dataset.csv`. Данные включают различные поля, такие как тип протокола, служба, состояние соединения, количество пакетов, байтов и другие сетевые параметры, заканчивающиеся меткой, обозначающей тип трафика (например, 'normal' или 'snmpgetattack').\n",
      "\n",
      "Пример 3:\n",
      "Датасет содержит информацию о различных автомобилях. Он включает следующие столбцы: `Unnamed: 0`, `brand` (марка автомобиля), `model` (модель автомобиля), `color` (цвет), `registration_date` (дата регистрации), `year` (год выпуска), `price_in_euro` (цена в евро), `power_kw` (мощность в киловаттах), `power_ps` (мощность в лошадиных силах), `transmission_type` (тип трансмиссии), `fuel_type` (тип топлива), `fuel_consumption_l_100km` (расход топлива в литрах на 100 км), `fuel_consumption_g_km` (расход топлива в граммах на км), `mileage_in_km` (пробег в км), и `offer_description` (описание предложения). Эти данные представлены в формате CSV и обеспечивают всестороннюю информацию о характеристиках автомобилей, включая их технические детали и состояние.\n",
      "\n",
      "\n"
     ]
    }
   ],
   "source": [
    "response_examples = [\n",
    "    'Датасет содержит подробную информацию о 52,000 анимационных фильмах, собранную с помощью TMDB API. Основной файл датасета называется \"Animation_Movies.csv\" и включает различные атрибуты для каждого фильма, такие как \"id\", \"title\" (название), \"vote_average\" (средняя оценка), \"vote_count\" (количество голосов), \"status\" (статус), \"release_date\" (дата выпуска), \"revenue\" (доход), \"runtime\" (длительность), \"adult\" (для взрослых), \"backdrop_path\" (путь к фоновому изображению), \"budget\" (бюджет), \"homepage\" (домашняя страница), \"imdb_id\", \"original_language\" (оригинальный язык), \"original_title\" (оригинальное название), \"overview\" (обзор), \"popularity\" (популярность), \"poster_path\" (путь к постеру), \"tagline\" (слоган), \"genres\" (жанры), \"production_companies\" (компании-производители), \"production_countries\" (страны-производители) и \"spoken_languages\" (разговорные языки).',\n",
    "    'Датасет содержит данные для классификации и анализа DDoS-атак. Один из основных файлов датасета называется `train_dataset.csv`. Данные включают различные поля, такие как тип протокола, служба, состояние соединения, количество пакетов, байтов и другие сетевые параметры, заканчивающиеся меткой, обозначающей тип трафика (например, \\'normal\\' или \\'snmpgetattack\\').',\n",
    "    'Датасет содержит информацию о различных автомобилях. Он включает следующие столбцы: `Unnamed: 0`, `brand` (марка автомобиля), `model` (модель автомобиля), `color` (цвет), `registration_date` (дата регистрации), `year` (год выпуска), `price_in_euro` (цена в евро), `power_kw` (мощность в киловаттах), `power_ps` (мощность в лошадиных силах), `transmission_type` (тип трансмиссии), `fuel_type` (тип топлива), `fuel_consumption_l_100km` (расход топлива в литрах на 100 км), `fuel_consumption_g_km` (расход топлива в граммах на км), `mileage_in_km` (пробег в км), и `offer_description` (описание предложения). Эти данные представлены в формате CSV и обеспечивают всестороннюю информацию о характеристиках автомобилей, включая их технические детали и состояние.',\n",
    "]\n",
    "\n",
    "response_examples_prompt = \"\"\n",
    "for i, ex in enumerate(response_examples):\n",
    "    response_examples_prompt += f\"Пример {i+1}:\\n{ex}\\n\\n\"\n",
    "\n",
    "print(response_examples_prompt)"
   ]
  },
  {
   "cell_type": "code",
   "execution_count": 40,
   "id": "2bde74dd-3b74-436f-8247-3a77b1da5449",
   "metadata": {},
   "outputs": [
    {
     "name": "stdout",
     "output_type": "stream",
     "text": [
      "Используй информацию из секций выше, обозначенных ЗАГЛАВНЫМИ буквами, чтобы составить один абзац текста описывающий структуру датасета. Свой ответ составь на русском языке. Вот примеры ответов:\n",
      "Пример 1:\n",
      "Датасет содержит подробную информацию о 52,000 анимационных фильмах, собранную с помощью TMDB API. Основной файл датасета называется \"Animation_Movies.csv\" и включает различные атрибуты для каждого фильма, такие как \"id\", \"title\" (название), \"vote_average\" (средняя оценка), \"vote_count\" (количество голосов), \"status\" (статус), \"release_date\" (дата выпуска), \"revenue\" (доход), \"runtime\" (длительность), \"adult\" (для взрослых), \"backdrop_path\" (путь к фоновому изображению), \"budget\" (бюджет), \"homepage\" (домашняя страница), \"imdb_id\", \"original_language\" (оригинальный язык), \"original_title\" (оригинальное название), \"overview\" (обзор), \"popularity\" (популярность), \"poster_path\" (путь к постеру), \"tagline\" (слоган), \"genres\" (жанры), \"production_companies\" (компании-производители), \"production_countries\" (страны-производители) и \"spoken_languages\" (разговорные языки).\n",
      "\n",
      "Пример 2:\n",
      "Датасет содержит данные для классификации и анализа DDoS-атак. Один из основных файлов датасета называется `train_dataset.csv`. Данные включают различные поля, такие как тип протокола, служба, состояние соединения, количество пакетов, байтов и другие сетевые параметры, заканчивающиеся меткой, обозначающей тип трафика (например, 'normal' или 'snmpgetattack').\n",
      "\n",
      "Пример 3:\n",
      "Датасет содержит информацию о различных автомобилях. Он включает следующие столбцы: `Unnamed: 0`, `brand` (марка автомобиля), `model` (модель автомобиля), `color` (цвет), `registration_date` (дата регистрации), `year` (год выпуска), `price_in_euro` (цена в евро), `power_kw` (мощность в киловаттах), `power_ps` (мощность в лошадиных силах), `transmission_type` (тип трансмиссии), `fuel_type` (тип топлива), `fuel_consumption_l_100km` (расход топлива в литрах на 100 км), `fuel_consumption_g_km` (расход топлива в граммах на км), `mileage_in_km` (пробег в км), и `offer_description` (описание предложения). Эти данные представлены в формате CSV и обеспечивают всестороннюю информацию о характеристиках автомобилей, включая их технические детали и состояние.\n",
      "\n",
      "\n"
     ]
    }
   ],
   "source": [
    "instruction = \"Используй информацию из секций выше, обозначенных ЗАГЛАВНЫМИ буквами, чтобы составить один абзац текста описывающий структуру датасета. \"\n",
    "instruction += \"Свой ответ составь на русском языке. Вот примеры ответов:\\n\"\n",
    "instruction += response_examples_prompt\n",
    "\n",
    "print(instruction)"
   ]
  },
  {
   "cell_type": "code",
   "execution_count": 41,
   "id": "6d7f5e27-9bc1-4866-a831-564a1f76eb09",
   "metadata": {},
   "outputs": [
    {
     "name": "stdout",
     "output_type": "stream",
     "text": [
      "moodify-dataset.txt\n"
     ]
    }
   ],
   "source": [
    "dir = 'DatasetStructurePrompts'\n",
    "\n",
    "for filename in os.listdir(dir):\n",
    "    if os.path.isdir(os.path.join(dir, filename)):\n",
    "        continue\n",
    "    with open(os.path.join(dir, filename), 'r') as f:\n",
    "        prompt = f.read()\n",
    "    paragraphs = prompt.split('\\n\\n')\n",
    "    paragraphs = paragraphs[:-1]\n",
    "    dataset_prompt = '\\n\\n'.join(paragraphs)\n",
    "    prompt = f\"{dataset_prompt}\\n\\n{instruction}\"\n",
    "    with open(os.path.join(dir, filename), 'w') as f:\n",
    "        f.write(prompt)\n",
    "    print(filename)\n",
    "    break"
   ]
  },
  {
   "cell_type": "code",
   "execution_count": 42,
   "id": "86362746-d6a4-4dfa-8777-64c76ffb8442",
   "metadata": {},
   "outputs": [
    {
     "name": "stderr",
     "output_type": "stream",
     "text": [
      "  0%|          | 0/68 [00:03<?, ?it/s]\n"
     ]
    }
   ],
   "source": [
    "from tqdm import tqdm\n",
    "\n",
    "output_dir = 'DatasetStructureResponses'\n",
    "\n",
    "def generate(prompt):\n",
    "    result = ollama.generate(model='saiga-llama3-t0', prompt=prompt)\n",
    "    response = result['response']\n",
    "    response = response.strip()\n",
    "    return response\n",
    "\n",
    "for filename in tqdm(os.listdir(dir)):\n",
    "    if os.path.isdir(os.path.join(dir, filename)):\n",
    "        continue\n",
    "    with open(os.path.join(dir, filename), 'r') as f:\n",
    "        prompt = f.read()\n",
    "    response = generate(prompt)\n",
    "    with open(os.path.join(output_dir, filename), 'w') as f:\n",
    "        f.write(response)\n",
    "    break"
   ]
  },
  {
   "cell_type": "code",
   "execution_count": 95,
   "id": "5b3ae0ed-7b8e-4ed2-b975-968dbb073cdb",
   "metadata": {},
   "outputs": [
    {
     "name": "stderr",
     "output_type": "stream",
     "text": [
      "/root/miniconda3/envs/ncs_georgy/lib/python3.11/site-packages/nltk/translate/bleu_score.py:552: UserWarning: \n",
      "The hypothesis contains 0 counts of 3-gram overlaps.\n",
      "Therefore the BLEU score evaluates to 0, independently of\n",
      "how many N-gram overlaps of lower order it contains.\n",
      "Consider using lower n-gram order or use SmoothingFunction()\n",
      "  warnings.warn(_msg)\n",
      "/root/miniconda3/envs/ncs_georgy/lib/python3.11/site-packages/nltk/translate/bleu_score.py:552: UserWarning: \n",
      "The hypothesis contains 0 counts of 4-gram overlaps.\n",
      "Therefore the BLEU score evaluates to 0, independently of\n",
      "how many N-gram overlaps of lower order it contains.\n",
      "Consider using lower n-gram order or use SmoothingFunction()\n",
      "  warnings.warn(_msg)\n",
      "Warning: Empty reference sentence detected; setting raw BERTScores to 0.\n"
     ]
    },
    {
     "data": {
      "text/plain": [
       "{'bleu': 9.361888126935942e-156,\n",
       " 'rouge': {'precision': 0.5055759642513374,\n",
       "  'recall': 0.19833173918009975,\n",
       "  'f1': 0.23441545982577153},\n",
       " 'meteor': 0.1752210285223062,\n",
       " 'bertscore': {'precision': 0.7285274267196655,\n",
       "  'recall': 0.6587602496147156,\n",
       "  'f1': 0.6912165880203247}}"
      ]
     },
     "execution_count": 95,
     "metadata": {},
     "output_type": "execute_result"
    }
   ],
   "source": [
    "common_folder = os.path.join('/', 'home', 'user', 'georgy', 'DatasetSummarization', 'DatasetSummarization', 'KaggleMigration')\n",
    "responses_folder = os.path.join(common_folder, 'Experiments', 'PromptRefinement', 'DatasetStructureResponses')\n",
    "references_folder = os.path.join(common_folder, 'KaggleMigrationDataset', 'DatasetStructureReferences')\n",
    "\n",
    "references = load_texts(references_folder)\n",
    "responses = load_texts(responses_folder)\n",
    "\n",
    "evaluator.calculate_scores(responses, references)"
   ]
  },
  {
   "cell_type": "markdown",
   "id": "c9c93b91-f8a4-419d-9978-7f9281185ff9",
   "metadata": {},
   "source": [
    "## Potential Uses"
   ]
  },
  {
   "cell_type": "code",
   "execution_count": 99,
   "id": "621883dc-065f-4c4a-8c59-2c2c9a063cda",
   "metadata": {},
   "outputs": [
    {
     "data": {
      "text/plain": [
       "'Cоставь один абзац текста описывающий возможные варианты использования датасета. Не упоминай ID датасета, заголовок и подзаголовок. Не рассказывай как был собран датасет. Не говори о ключевых словах датасета. Не упоминай себя и автоматического ассистента Сайга. Сформулируй ответ в одном абзаце на русском языке.'"
      ]
     },
     "execution_count": 99,
     "metadata": {},
     "output_type": "execute_result"
    }
   ],
   "source": [
    "instruction = \"Cоставь один абзац текста описывающий возможные варианты использования датасета. \"\n",
    "instruction += \"Не упоминай ID датасета, заголовок и подзаголовок. \"\n",
    "instruction += \"Не рассказывай как был собран датасет. \"\n",
    "instruction += \"Не говори о ключевых словах датасета. \"\n",
    "instruction += \"Не упоминай себя и автоматического ассистента Сайга. \"\n",
    "instruction += \"Сформулируй ответ в одном абзаце на русском языке.\"\n",
    "\n",
    "instruction"
   ]
  },
  {
   "cell_type": "code",
   "execution_count": 100,
   "id": "4e0039ef-0cc4-4cf2-b863-f24f7c3b5a46",
   "metadata": {},
   "outputs": [],
   "source": [
    "dir = 'PotentialUsesPrompts'\n",
    "\n",
    "for filename in os.listdir(dir):\n",
    "    if os.path.isdir(os.path.join(dir, filename)):\n",
    "        continue\n",
    "    with open(os.path.join(dir, filename), 'r') as f:\n",
    "        prompt = f.read()\n",
    "    paragraphs = prompt.split('\\n\\n')\n",
    "    paragraphs = paragraphs[:-1]\n",
    "    dataset_prompt = '\\n\\n'.join(paragraphs)\n",
    "    prompt = f\"{dataset_prompt}\\n\\n{instruction}\"\n",
    "    with open(os.path.join(dir, filename), 'w') as f:\n",
    "        f.write(prompt)"
   ]
  },
  {
   "cell_type": "code",
   "execution_count": 101,
   "id": "e76c9731-4330-4260-87f8-531568b03396",
   "metadata": {},
   "outputs": [
    {
     "name": "stderr",
     "output_type": "stream",
     "text": [
      "100%|██████████| 68/68 [02:06<00:00,  1.86s/it]\n"
     ]
    }
   ],
   "source": [
    "from tqdm import tqdm\n",
    "\n",
    "output_dir = 'PotentialUsesResponses'\n",
    "\n",
    "def generate(prompt):\n",
    "    result = ollama.generate(model='saiga-llama3-t0', prompt=prompt)\n",
    "    response = result['response']\n",
    "    response = response.strip()\n",
    "    return response\n",
    "\n",
    "for filename in tqdm(os.listdir(dir)):\n",
    "    if os.path.isdir(os.path.join(dir, filename)):\n",
    "        continue\n",
    "    with open(os.path.join(dir, filename), 'r') as f:\n",
    "        prompt = f.read()\n",
    "    response = generate(prompt)\n",
    "    with open(os.path.join(output_dir, filename), 'w') as f:\n",
    "        f.write(response)"
   ]
  },
  {
   "cell_type": "code",
   "execution_count": 102,
   "id": "492f9256-a3b7-42c1-9059-24ee61a16f95",
   "metadata": {},
   "outputs": [
    {
     "name": "stderr",
     "output_type": "stream",
     "text": [
      "Warning: Empty reference sentence detected; setting raw BERTScores to 0.\n"
     ]
    },
    {
     "data": {
      "text/plain": [
       "{'bleu': 9.710120333628321e-232,\n",
       " 'rouge': {'precision': 0.014925373134328358,\n",
       "  'recall': 0.007462686567164179,\n",
       "  'f1': 0.009950248756218905},\n",
       " 'meteor': 0.18346541065719804,\n",
       " 'bertscore': {'precision': 0.7410532236099243,\n",
       "  'recall': 0.7334495782852173,\n",
       "  'f1': 0.7370179295539856}}"
      ]
     },
     "execution_count": 102,
     "metadata": {},
     "output_type": "execute_result"
    }
   ],
   "source": [
    "common_folder = os.path.join('/', 'home', 'user', 'georgy', 'DatasetSummarization', 'DatasetSummarization', 'KaggleMigration')\n",
    "responses_folder = os.path.join(common_folder, 'Experiments', 'PromptRefinement', 'PotentialUsesResponses')\n",
    "references_folder = os.path.join(common_folder, 'KaggleMigrationDataset', 'PotentialUsesReferences')\n",
    "\n",
    "references = load_texts(references_folder)\n",
    "responses = load_texts(responses_folder)\n",
    "\n",
    "evaluator.calculate_scores(responses, references)"
   ]
  },
  {
   "cell_type": "code",
   "execution_count": null,
   "id": "19f42fd4-1794-4737-8b46-435c0288793b",
   "metadata": {},
   "outputs": [],
   "source": []
  }
 ],
 "metadata": {
  "kernelspec": {
   "display_name": "ncs_georgy",
   "language": "python",
   "name": "ncs_georgy"
  },
  "language_info": {
   "codemirror_mode": {
    "name": "ipython",
    "version": 3
   },
   "file_extension": ".py",
   "mimetype": "text/x-python",
   "name": "python",
   "nbconvert_exporter": "python",
   "pygments_lexer": "ipython3",
   "version": "3.11.4"
  }
 },
 "nbformat": 4,
 "nbformat_minor": 5
}
