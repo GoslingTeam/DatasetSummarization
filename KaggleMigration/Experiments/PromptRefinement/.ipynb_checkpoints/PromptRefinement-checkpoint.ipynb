{
 "cells": [
  {
   "cell_type": "code",
   "execution_count": 72,
   "id": "3311b1a4-3676-472f-a951-923955e6fff4",
   "metadata": {},
   "outputs": [],
   "source": [
    "import os\n",
    "import ollama"
   ]
  },
  {
   "cell_type": "code",
   "execution_count": 77,
   "id": "ec07c541-c4f9-40b7-848f-153b48050922",
   "metadata": {},
   "outputs": [],
   "source": [
    "import sys\n",
    "sys.path.insert(1, '/home/user/georgy/DatasetSummarization/MetricsEvaluation')\n",
    "\n",
    "from metrics_evaluation import MetricsEvaluator\n",
    "\n",
    "evaluator = MetricsEvaluator()"
   ]
  },
  {
   "cell_type": "code",
   "execution_count": 79,
   "id": "eb31a531-e33c-4c70-9d85-1d89470dfc95",
   "metadata": {},
   "outputs": [],
   "source": [
    "import os\n",
    "\n",
    "def load_texts(path):\n",
    "    texts = []\n",
    "    for filename in os.listdir(path):\n",
    "        full_filename = os.path.join(path, filename)\n",
    "        if os.path.isdir(full_filename):\n",
    "            continue\n",
    "        with open(full_filename) as f:\n",
    "            texts.append(f.read())\n",
    "    return texts"
   ]
  },
  {
   "cell_type": "markdown",
   "id": "94bd239d-e33e-483f-9bbe-048750773af0",
   "metadata": {},
   "source": [
    "## Collection method"
   ]
  },
  {
   "cell_type": "code",
   "execution_count": 73,
   "id": "97402886-9450-4fa0-94ac-96bddfaaf336",
   "metadata": {},
   "outputs": [
    {
     "data": {
      "text/plain": [
       "'Cоставь один абзац текста описывающий как были собраны данные. Если ты не знаешь как были собраны данные, то в ответе напиши, что нет информации о том, как были собраны данные. Не упоминай заголовок и ID датасета. Не упоминай файлы датасета. Не говори о ключевых словах датасета. Не упоминай себя и автоматического ассистента Сайга. Не говори для чего датасет может быть полезен. Сформулируй ответ в одном абзаце на русском языке.'"
      ]
     },
     "execution_count": 73,
     "metadata": {},
     "output_type": "execute_result"
    }
   ],
   "source": [
    "instruction = \"Cоставь один абзац текста описывающий как были собраны данные. \"\n",
    "instruction += \"Если ты не знаешь как были собраны данные, то в ответе напиши, что нет информации о том, как были собраны данные. \"\n",
    "instruction += \"Не упоминай заголовок и ID датасета. \"\n",
    "instruction += \"Не упоминай файлы датасета. \"\n",
    "instruction += \"Не говори о ключевых словах датасета. \"\n",
    "instruction += \"Не упоминай себя и автоматического ассистента Сайга. \"\n",
    "instruction += \"Не говори для чего датасет может быть полезен. \"\n",
    "instruction += \"Сформулируй ответ в одном абзаце на русском языке.\"\n",
    "\n",
    "instruction"
   ]
  },
  {
   "cell_type": "code",
   "execution_count": 76,
   "id": "6d3c9955-00be-4a84-8eca-d34543ed1f1b",
   "metadata": {},
   "outputs": [],
   "source": [
    "dir = 'CollectionMethodPrompts'\n",
    "\n",
    "for filename in os.listdir(dir):\n",
    "    if os.path.isdir(os.path.join(dir, filename)):\n",
    "        continue\n",
    "    with open(os.path.join(dir, filename), 'r') as f:\n",
    "        prompt = f.read()\n",
    "    paragraphs = prompt.split('\\n\\n')\n",
    "    paragraphs = paragraphs[:-1]\n",
    "    dataset_prompt = '\\n\\n'.join(paragraphs)\n",
    "    prompt = f\"{dataset_prompt}\\n\\n{instruction}\"\n",
    "    with open(os.path.join(dir, filename), 'w') as f:\n",
    "        f.write(prompt)"
   ]
  },
  {
   "cell_type": "code",
   "execution_count": 75,
   "id": "fd393dde-c48a-48ff-b4f0-461bd4368e17",
   "metadata": {},
   "outputs": [
    {
     "name": "stderr",
     "output_type": "stream",
     "text": [
      "100%|██████████| 68/68 [01:15<00:00,  1.11s/it]\n"
     ]
    }
   ],
   "source": [
    "from tqdm import tqdm\n",
    "\n",
    "output_dir = 'CollectionMethodResponses'\n",
    "\n",
    "def generate(prompt):\n",
    "    result = ollama.generate(model='saiga-llama3-t0', prompt=prompt)\n",
    "    response = result['response']\n",
    "    response = response.strip()\n",
    "    return response\n",
    "\n",
    "for filename in tqdm(os.listdir(dir)):\n",
    "    if os.path.isdir(os.path.join(dir, filename)):\n",
    "        continue\n",
    "    with open(os.path.join(dir, filename), 'r') as f:\n",
    "        prompt = f.read()\n",
    "    response = generate(prompt)\n",
    "    with open(os.path.join(output_dir, filename), 'w') as f:\n",
    "        f.write(response)"
   ]
  },
  {
   "cell_type": "code",
   "execution_count": 90,
   "id": "6c607a52-1f41-45fe-a379-3fb2de745468",
   "metadata": {},
   "outputs": [
    {
     "name": "stderr",
     "output_type": "stream",
     "text": [
      "/root/miniconda3/envs/ncs_georgy/lib/python3.11/site-packages/nltk/translate/bleu_score.py:552: UserWarning: \n",
      "The hypothesis contains 0 counts of 2-gram overlaps.\n",
      "Therefore the BLEU score evaluates to 0, independently of\n",
      "how many N-gram overlaps of lower order it contains.\n",
      "Consider using lower n-gram order or use SmoothingFunction()\n",
      "  warnings.warn(_msg)\n",
      "/root/miniconda3/envs/ncs_georgy/lib/python3.11/site-packages/nltk/translate/bleu_score.py:552: UserWarning: \n",
      "The hypothesis contains 0 counts of 3-gram overlaps.\n",
      "Therefore the BLEU score evaluates to 0, independently of\n",
      "how many N-gram overlaps of lower order it contains.\n",
      "Consider using lower n-gram order or use SmoothingFunction()\n",
      "  warnings.warn(_msg)\n",
      "/root/miniconda3/envs/ncs_georgy/lib/python3.11/site-packages/nltk/translate/bleu_score.py:552: UserWarning: \n",
      "The hypothesis contains 0 counts of 4-gram overlaps.\n",
      "Therefore the BLEU score evaluates to 0, independently of\n",
      "how many N-gram overlaps of lower order it contains.\n",
      "Consider using lower n-gram order or use SmoothingFunction()\n",
      "  warnings.warn(_msg)\n",
      "Warning: Empty reference sentence detected; setting raw BERTScores to 0.\n"
     ]
    },
    {
     "data": {
      "text/plain": [
       "{'bleu': 1.0240425689270686e-231,\n",
       " 'rouge': {'precision': 0.05721393034825871,\n",
       "  'recall': 0.01496090973702914,\n",
       "  'f1': 0.022624970386164418},\n",
       " 'meteor': 0.11336086523206744,\n",
       " 'bertscore': {'precision': 0.6470916867256165,\n",
       "  'recall': 0.6619266271591187,\n",
       "  'f1': 0.653465986251831}}"
      ]
     },
     "execution_count": 90,
     "metadata": {},
     "output_type": "execute_result"
    }
   ],
   "source": [
    "common_folder = os.path.join('/', 'home', 'user', 'georgy', 'DatasetSummarization', 'DatasetSummarization', 'KaggleMigration')\n",
    "responses_folder = os.path.join(common_folder, 'Experiments', 'PromptRefinement', 'CollectionMethodResponses')\n",
    "references_folder = os.path.join(common_folder, 'KaggleMigrationDataset', 'CollectionMethodReferences')\n",
    "\n",
    "references = load_texts(references_folder)\n",
    "responses = load_texts(responses_folder)\n",
    "\n",
    "evaluator.calculate_scores(responses, references)"
   ]
  },
  {
   "cell_type": "markdown",
   "id": "ee9ffae5-8b10-4656-8d9c-1efe456c936a",
   "metadata": {},
   "source": [
    "## Dataset Structure"
   ]
  },
  {
   "cell_type": "code",
   "execution_count": 92,
   "id": "5148e1dc-075f-4773-b43b-178e7cb21a4e",
   "metadata": {},
   "outputs": [
    {
     "data": {
      "text/plain": [
       "'Cоставь один абзац текста описывающий структуру датасета. Не упоминай ID датасета, заголовок и подзаголовок. Не упоминай фразу \"первые 1024 байт датасета\". Говори только собственное имя файла, игнорируя полный путь. Не рассказывай как был собран датасет. Не говори о ключевых словах датасета. Не упоминай себя и автоматического ассистента Сайга. Не говори для чего датасет может быть полезен. Сформулируй ответ в одном абзаце на русском языке.'"
      ]
     },
     "execution_count": 92,
     "metadata": {},
     "output_type": "execute_result"
    }
   ],
   "source": [
    "instruction = \"Cоставь один абзац текста описывающий структуру датасета. \"\n",
    "instruction += \"Не упоминай ID датасета, заголовок и подзаголовок. \"\n",
    "instruction += \"Не упоминай фразу \\\"первые 1024 байт датасета\\\". \"\n",
    "instruction += \"Говори только собственное имя файла, игнорируя полный путь. \"\n",
    "instruction += \"Не рассказывай как был собран датасет. \"\n",
    "instruction += \"Не говори о ключевых словах датасета. \"\n",
    "instruction += \"Не упоминай себя и автоматического ассистента Сайга. \"\n",
    "instruction += \"Не говори для чего датасет может быть полезен. \"\n",
    "instruction += \"Сформулируй ответ в одном абзаце на русском языке.\"\n",
    "\n",
    "instruction"
   ]
  },
  {
   "cell_type": "code",
   "execution_count": 93,
   "id": "6d7f5e27-9bc1-4866-a831-564a1f76eb09",
   "metadata": {},
   "outputs": [],
   "source": [
    "dir = 'DatasetStructurePrompts'\n",
    "\n",
    "for filename in os.listdir(dir):\n",
    "    if os.path.isdir(os.path.join(dir, filename)):\n",
    "        continue\n",
    "    with open(os.path.join(dir, filename), 'r') as f:\n",
    "        prompt = f.read()\n",
    "    paragraphs = prompt.split('\\n\\n')\n",
    "    paragraphs = paragraphs[:-1]\n",
    "    dataset_prompt = '\\n\\n'.join(paragraphs)\n",
    "    prompt = f\"{dataset_prompt}\\n\\n{instruction}\"\n",
    "    with open(os.path.join(dir, filename), 'w') as f:\n",
    "        f.write(prompt)"
   ]
  },
  {
   "cell_type": "code",
   "execution_count": 94,
   "id": "86362746-d6a4-4dfa-8777-64c76ffb8442",
   "metadata": {},
   "outputs": [
    {
     "name": "stderr",
     "output_type": "stream",
     "text": [
      "100%|██████████| 68/68 [01:42<00:00,  1.51s/it]\n"
     ]
    }
   ],
   "source": [
    "from tqdm import tqdm\n",
    "\n",
    "output_dir = 'DatasetStructureResponses'\n",
    "\n",
    "def generate(prompt):\n",
    "    result = ollama.generate(model='saiga-llama3-t0', prompt=prompt)\n",
    "    response = result['response']\n",
    "    response = response.strip()\n",
    "    return response\n",
    "\n",
    "for filename in tqdm(os.listdir(dir)):\n",
    "    if os.path.isdir(os.path.join(dir, filename)):\n",
    "        continue\n",
    "    with open(os.path.join(dir, filename), 'r') as f:\n",
    "        prompt = f.read()\n",
    "    response = generate(prompt)\n",
    "    with open(os.path.join(output_dir, filename), 'w') as f:\n",
    "        f.write(response)"
   ]
  },
  {
   "cell_type": "code",
   "execution_count": 95,
   "id": "5b3ae0ed-7b8e-4ed2-b975-968dbb073cdb",
   "metadata": {},
   "outputs": [
    {
     "name": "stderr",
     "output_type": "stream",
     "text": [
      "/root/miniconda3/envs/ncs_georgy/lib/python3.11/site-packages/nltk/translate/bleu_score.py:552: UserWarning: \n",
      "The hypothesis contains 0 counts of 3-gram overlaps.\n",
      "Therefore the BLEU score evaluates to 0, independently of\n",
      "how many N-gram overlaps of lower order it contains.\n",
      "Consider using lower n-gram order or use SmoothingFunction()\n",
      "  warnings.warn(_msg)\n",
      "/root/miniconda3/envs/ncs_georgy/lib/python3.11/site-packages/nltk/translate/bleu_score.py:552: UserWarning: \n",
      "The hypothesis contains 0 counts of 4-gram overlaps.\n",
      "Therefore the BLEU score evaluates to 0, independently of\n",
      "how many N-gram overlaps of lower order it contains.\n",
      "Consider using lower n-gram order or use SmoothingFunction()\n",
      "  warnings.warn(_msg)\n",
      "Warning: Empty reference sentence detected; setting raw BERTScores to 0.\n"
     ]
    },
    {
     "data": {
      "text/plain": [
       "{'bleu': 9.361888126935942e-156,\n",
       " 'rouge': {'precision': 0.5055759642513374,\n",
       "  'recall': 0.19833173918009975,\n",
       "  'f1': 0.23441545982577153},\n",
       " 'meteor': 0.1752210285223062,\n",
       " 'bertscore': {'precision': 0.7285274267196655,\n",
       "  'recall': 0.6587602496147156,\n",
       "  'f1': 0.6912165880203247}}"
      ]
     },
     "execution_count": 95,
     "metadata": {},
     "output_type": "execute_result"
    }
   ],
   "source": [
    "common_folder = os.path.join('/', 'home', 'user', 'georgy', 'DatasetSummarization', 'DatasetSummarization', 'KaggleMigration')\n",
    "responses_folder = os.path.join(common_folder, 'Experiments', 'PromptRefinement', 'DatasetStructureResponses')\n",
    "references_folder = os.path.join(common_folder, 'KaggleMigrationDataset', 'DatasetStructureReferences')\n",
    "\n",
    "references = load_texts(references_folder)\n",
    "responses = load_texts(responses_folder)\n",
    "\n",
    "evaluator.calculate_scores(responses, references)"
   ]
  },
  {
   "cell_type": "markdown",
   "id": "c9c93b91-f8a4-419d-9978-7f9281185ff9",
   "metadata": {},
   "source": [
    "## Potential Uses"
   ]
  },
  {
   "cell_type": "code",
   "execution_count": 99,
   "id": "621883dc-065f-4c4a-8c59-2c2c9a063cda",
   "metadata": {},
   "outputs": [
    {
     "data": {
      "text/plain": [
       "'Cоставь один абзац текста описывающий возможные варианты использования датасета. Не упоминай ID датасета, заголовок и подзаголовок. Не рассказывай как был собран датасет. Не говори о ключевых словах датасета. Не упоминай себя и автоматического ассистента Сайга. Сформулируй ответ в одном абзаце на русском языке.'"
      ]
     },
     "execution_count": 99,
     "metadata": {},
     "output_type": "execute_result"
    }
   ],
   "source": [
    "instruction = \"Cоставь один абзац текста описывающий возможные варианты использования датасета. \"\n",
    "instruction += \"Не упоминай ID датасета, заголовок и подзаголовок. \"\n",
    "instruction += \"Не рассказывай как был собран датасет. \"\n",
    "instruction += \"Не говори о ключевых словах датасета. \"\n",
    "instruction += \"Не упоминай себя и автоматического ассистента Сайга. \"\n",
    "instruction += \"Сформулируй ответ в одном абзаце на русском языке.\"\n",
    "\n",
    "instruction"
   ]
  },
  {
   "cell_type": "code",
   "execution_count": 100,
   "id": "4e0039ef-0cc4-4cf2-b863-f24f7c3b5a46",
   "metadata": {},
   "outputs": [],
   "source": [
    "dir = 'PotentialUsesPrompts'\n",
    "\n",
    "for filename in os.listdir(dir):\n",
    "    if os.path.isdir(os.path.join(dir, filename)):\n",
    "        continue\n",
    "    with open(os.path.join(dir, filename), 'r') as f:\n",
    "        prompt = f.read()\n",
    "    paragraphs = prompt.split('\\n\\n')\n",
    "    paragraphs = paragraphs[:-1]\n",
    "    dataset_prompt = '\\n\\n'.join(paragraphs)\n",
    "    prompt = f\"{dataset_prompt}\\n\\n{instruction}\"\n",
    "    with open(os.path.join(dir, filename), 'w') as f:\n",
    "        f.write(prompt)"
   ]
  },
  {
   "cell_type": "code",
   "execution_count": 101,
   "id": "e76c9731-4330-4260-87f8-531568b03396",
   "metadata": {},
   "outputs": [
    {
     "name": "stderr",
     "output_type": "stream",
     "text": [
      "100%|██████████| 68/68 [02:06<00:00,  1.86s/it]\n"
     ]
    }
   ],
   "source": [
    "from tqdm import tqdm\n",
    "\n",
    "output_dir = 'PotentialUsesResponses'\n",
    "\n",
    "def generate(prompt):\n",
    "    result = ollama.generate(model='saiga-llama3-t0', prompt=prompt)\n",
    "    response = result['response']\n",
    "    response = response.strip()\n",
    "    return response\n",
    "\n",
    "for filename in tqdm(os.listdir(dir)):\n",
    "    if os.path.isdir(os.path.join(dir, filename)):\n",
    "        continue\n",
    "    with open(os.path.join(dir, filename), 'r') as f:\n",
    "        prompt = f.read()\n",
    "    response = generate(prompt)\n",
    "    with open(os.path.join(output_dir, filename), 'w') as f:\n",
    "        f.write(response)"
   ]
  },
  {
   "cell_type": "code",
   "execution_count": 102,
   "id": "492f9256-a3b7-42c1-9059-24ee61a16f95",
   "metadata": {},
   "outputs": [
    {
     "name": "stderr",
     "output_type": "stream",
     "text": [
      "Warning: Empty reference sentence detected; setting raw BERTScores to 0.\n"
     ]
    },
    {
     "data": {
      "text/plain": [
       "{'bleu': 9.710120333628321e-232,\n",
       " 'rouge': {'precision': 0.014925373134328358,\n",
       "  'recall': 0.007462686567164179,\n",
       "  'f1': 0.009950248756218905},\n",
       " 'meteor': 0.18346541065719804,\n",
       " 'bertscore': {'precision': 0.7410532236099243,\n",
       "  'recall': 0.7334495782852173,\n",
       "  'f1': 0.7370179295539856}}"
      ]
     },
     "execution_count": 102,
     "metadata": {},
     "output_type": "execute_result"
    }
   ],
   "source": [
    "common_folder = os.path.join('/', 'home', 'user', 'georgy', 'DatasetSummarization', 'DatasetSummarization', 'KaggleMigration')\n",
    "responses_folder = os.path.join(common_folder, 'Experiments', 'PromptRefinement', 'PotentialUsesResponses')\n",
    "references_folder = os.path.join(common_folder, 'KaggleMigrationDataset', 'PotentialUsesReferences')\n",
    "\n",
    "references = load_texts(references_folder)\n",
    "responses = load_texts(responses_folder)\n",
    "\n",
    "evaluator.calculate_scores(responses, references)"
   ]
  },
  {
   "cell_type": "code",
   "execution_count": null,
   "id": "19f42fd4-1794-4737-8b46-435c0288793b",
   "metadata": {},
   "outputs": [],
   "source": []
  }
 ],
 "metadata": {
  "kernelspec": {
   "display_name": "ncs_georgy",
   "language": "python",
   "name": "ncs_georgy"
  },
  "language_info": {
   "codemirror_mode": {
    "name": "ipython",
    "version": 3
   },
   "file_extension": ".py",
   "mimetype": "text/x-python",
   "name": "python",
   "nbconvert_exporter": "python",
   "pygments_lexer": "ipython3",
   "version": "3.11.4"
  }
 },
 "nbformat": 4,
 "nbformat_minor": 5
}
