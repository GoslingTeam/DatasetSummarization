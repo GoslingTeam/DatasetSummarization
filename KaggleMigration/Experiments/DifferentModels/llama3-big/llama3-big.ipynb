{
 "cells": [
  {
   "cell_type": "code",
   "execution_count": 4,
   "id": "3311b1a4-3676-472f-a951-923955e6fff4",
   "metadata": {},
   "outputs": [],
   "source": [
    "import os\n",
    "import ollama"
   ]
  },
  {
   "cell_type": "code",
   "execution_count": 5,
   "id": "ec07c541-c4f9-40b7-848f-153b48050922",
   "metadata": {},
   "outputs": [],
   "source": [
    "import sys\n",
    "sys.path.insert(1, '/home/user/georgy/DatasetSummarization/MetricsEvaluation')\n",
    "\n",
    "from metrics_evaluation import MetricsEvaluator\n",
    "\n",
    "evaluator = MetricsEvaluator()"
   ]
  },
  {
   "cell_type": "code",
   "execution_count": 6,
   "id": "eb31a531-e33c-4c70-9d85-1d89470dfc95",
   "metadata": {},
   "outputs": [],
   "source": [
    "import os\n",
    "\n",
    "def load_texts(path):\n",
    "    texts = []\n",
    "    for filename in os.listdir(path):\n",
    "        full_filename = os.path.join(path, filename)\n",
    "        if os.path.isdir(full_filename):\n",
    "            continue\n",
    "        with open(full_filename) as f:\n",
    "            texts.append(f.read())\n",
    "    return texts"
   ]
  },
  {
   "cell_type": "markdown",
   "id": "94bd239d-e33e-483f-9bbe-048750773af0",
   "metadata": {},
   "source": [
    "## Collection method"
   ]
  },
  {
   "cell_type": "code",
   "execution_count": 3,
   "id": "fd393dde-c48a-48ff-b4f0-461bd4368e17",
   "metadata": {},
   "outputs": [
    {
     "name": "stderr",
     "output_type": "stream",
     "text": [
      "100%|██████████| 68/68 [06:36<00:00,  5.83s/it]\n"
     ]
    }
   ],
   "source": [
    "from tqdm import tqdm\n",
    "\n",
    "dir = os.path.join('/', 'home', 'user', 'georgy', 'DatasetSummarization', 'DatasetSummarization', 'KaggleMigration', 'KaggleMigrationDataset', 'CollectionMethodPrompts')\n",
    "output_dir = 'CollectionMethodResponses'\n",
    "\n",
    "def generate(prompt):\n",
    "    result = ollama.generate(model='llama3:70b', prompt=prompt)\n",
    "    response = result['response']\n",
    "    response = response.strip()\n",
    "    return response\n",
    "\n",
    "for filename in tqdm(os.listdir(dir)):\n",
    "    if os.path.isdir(os.path.join(dir, filename)):\n",
    "        continue\n",
    "    with open(os.path.join(dir, filename), 'r') as f:\n",
    "        prompt = f.read()\n",
    "    response = generate(prompt)\n",
    "    # with open(os.path.join(output_dir, filename), 'w') as f:\n",
    "    #     f.write(response)\n",
    "    # break"
   ]
  },
  {
   "cell_type": "code",
   "execution_count": 5,
   "id": "6c607a52-1f41-45fe-a379-3fb2de745468",
   "metadata": {},
   "outputs": [
    {
     "name": "stderr",
     "output_type": "stream",
     "text": [
      "/root/miniconda3/envs/ncs_georgy/lib/python3.11/site-packages/nltk/translate/bleu_score.py:552: UserWarning: \n",
      "The hypothesis contains 0 counts of 2-gram overlaps.\n",
      "Therefore the BLEU score evaluates to 0, independently of\n",
      "how many N-gram overlaps of lower order it contains.\n",
      "Consider using lower n-gram order or use SmoothingFunction()\n",
      "  warnings.warn(_msg)\n",
      "/root/miniconda3/envs/ncs_georgy/lib/python3.11/site-packages/nltk/translate/bleu_score.py:552: UserWarning: \n",
      "The hypothesis contains 0 counts of 3-gram overlaps.\n",
      "Therefore the BLEU score evaluates to 0, independently of\n",
      "how many N-gram overlaps of lower order it contains.\n",
      "Consider using lower n-gram order or use SmoothingFunction()\n",
      "  warnings.warn(_msg)\n",
      "/root/miniconda3/envs/ncs_georgy/lib/python3.11/site-packages/nltk/translate/bleu_score.py:552: UserWarning: \n",
      "The hypothesis contains 0 counts of 4-gram overlaps.\n",
      "Therefore the BLEU score evaluates to 0, independently of\n",
      "how many N-gram overlaps of lower order it contains.\n",
      "Consider using lower n-gram order or use SmoothingFunction()\n",
      "  warnings.warn(_msg)\n",
      "Warning: Empty reference sentence detected; setting raw BERTScores to 0.\n"
     ]
    },
    {
     "data": {
      "text/plain": [
       "{'bleu': 1.0262809266932353e-231,\n",
       " 'rouge': {'precision': 0.07669983416252074,\n",
       "  'recall': 0.10621890547263681,\n",
       "  'f1': 0.07448016508133878},\n",
       " 'meteor': 0.13280855790368437,\n",
       " 'bertscore': {'precision': 0.652256965637207,\n",
       "  'recall': 0.7346413731575012,\n",
       "  'f1': 0.68968665599823}}"
      ]
     },
     "execution_count": 5,
     "metadata": {},
     "output_type": "execute_result"
    }
   ],
   "source": [
    "common_folder = os.path.join('/', 'home', 'user', 'georgy', 'DatasetSummarization', 'DatasetSummarization', 'KaggleMigration')\n",
    "responses_folder = os.path.join(common_folder, 'Experiments', 'DifferentModels', 'llama3-big', 'CollectionMethodResponses')\n",
    "references_folder = os.path.join(common_folder, 'KaggleMigrationDataset', 'CollectionMethodReferences')\n",
    "\n",
    "references = load_texts(references_folder)\n",
    "responses = load_texts(responses_folder)\n",
    "\n",
    "evaluator.calculate_scores(responses, references)"
   ]
  },
  {
   "cell_type": "markdown",
   "id": "ee9ffae5-8b10-4656-8d9c-1efe456c936a",
   "metadata": {},
   "source": [
    "## Dataset Structure"
   ]
  },
  {
   "cell_type": "code",
   "execution_count": 6,
   "id": "5148e1dc-075f-4773-b43b-178e7cb21a4e",
   "metadata": {},
   "outputs": [
    {
     "name": "stderr",
     "output_type": "stream",
     "text": [
      "100%|██████████| 67/67 [10:13<00:00,  9.16s/it]\n"
     ]
    }
   ],
   "source": [
    "from tqdm import tqdm\n",
    "\n",
    "dir = os.path.join(\n",
    "    '/', 'home', 'user', 'georgy', 'DatasetSummarization', 'DatasetSummarization', 'KaggleMigration',\n",
    "    'KaggleMigrationDataset', 'DatasetStructurePrompts'\n",
    ")\n",
    "output_dir = 'DatasetStructureResponses'\n",
    "\n",
    "def generate(prompt):\n",
    "    result = ollama.generate(model='llama3:70b', prompt=prompt)\n",
    "    response = result['response']\n",
    "    response = response.strip()\n",
    "    return response\n",
    "\n",
    "for filename in tqdm(os.listdir(dir)):\n",
    "    if os.path.isdir(os.path.join(dir, filename)):\n",
    "        continue\n",
    "    with open(os.path.join(dir, filename), 'r') as f:\n",
    "        prompt = f.read()\n",
    "    response = generate(prompt)\n",
    "    with open(os.path.join(output_dir, filename), 'w') as f:\n",
    "        f.write(response)\n",
    "    # break"
   ]
  },
  {
   "cell_type": "code",
   "execution_count": 7,
   "id": "5b3ae0ed-7b8e-4ed2-b975-968dbb073cdb",
   "metadata": {},
   "outputs": [
    {
     "name": "stderr",
     "output_type": "stream",
     "text": [
      "/root/miniconda3/envs/ncs_georgy/lib/python3.11/site-packages/nltk/translate/bleu_score.py:552: UserWarning: \n",
      "The hypothesis contains 0 counts of 3-gram overlaps.\n",
      "Therefore the BLEU score evaluates to 0, independently of\n",
      "how many N-gram overlaps of lower order it contains.\n",
      "Consider using lower n-gram order or use SmoothingFunction()\n",
      "  warnings.warn(_msg)\n",
      "/root/miniconda3/envs/ncs_georgy/lib/python3.11/site-packages/nltk/translate/bleu_score.py:552: UserWarning: \n",
      "The hypothesis contains 0 counts of 4-gram overlaps.\n",
      "Therefore the BLEU score evaluates to 0, independently of\n",
      "how many N-gram overlaps of lower order it contains.\n",
      "Consider using lower n-gram order or use SmoothingFunction()\n",
      "  warnings.warn(_msg)\n",
      "Warning: Empty reference sentence detected; setting raw BERTScores to 0.\n"
     ]
    },
    {
     "data": {
      "text/plain": [
       "{'bleu': 9.420293255852853e-156,\n",
       " 'rouge': {'precision': 0.4333158609531064,\n",
       "  'recall': 0.5170829527334918,\n",
       "  'f1': 0.419196844556657},\n",
       " 'meteor': 0.14967754170423628,\n",
       " 'bertscore': {'precision': 0.7220188975334167,\n",
       "  'recall': 0.7029826641082764,\n",
       "  'f1': 0.7117947340011597}}"
      ]
     },
     "execution_count": 7,
     "metadata": {},
     "output_type": "execute_result"
    }
   ],
   "source": [
    "common_folder = os.path.join('/', 'home', 'user', 'georgy', 'DatasetSummarization', 'DatasetSummarization', 'KaggleMigration')\n",
    "responses_folder = os.path.join(common_folder, 'Experiments', 'DifferentModels', 'llama3-big', 'DatasetStructureResponses')\n",
    "references_folder = os.path.join(common_folder, 'KaggleMigrationDataset', 'DatasetStructureReferences')\n",
    "\n",
    "references = load_texts(references_folder)\n",
    "responses = load_texts(responses_folder)\n",
    "\n",
    "evaluator.calculate_scores(responses, references)"
   ]
  },
  {
   "cell_type": "markdown",
   "id": "c9c93b91-f8a4-419d-9978-7f9281185ff9",
   "metadata": {},
   "source": [
    "## Potential Uses"
   ]
  },
  {
   "cell_type": "code",
   "execution_count": 8,
   "id": "621883dc-065f-4c4a-8c59-2c2c9a063cda",
   "metadata": {},
   "outputs": [
    {
     "name": "stderr",
     "output_type": "stream",
     "text": [
      "100%|██████████| 67/67 [11:15<00:00, 10.09s/it]\n"
     ]
    }
   ],
   "source": [
    "from tqdm import tqdm\n",
    "\n",
    "dir = os.path.join(\n",
    "    '/', 'home', 'user', 'georgy', 'DatasetSummarization', 'DatasetSummarization', 'KaggleMigration',\n",
    "    'KaggleMigrationDataset', 'PotentialUsesPrompts'\n",
    ")\n",
    "output_dir = 'PotentialUsesResponses'\n",
    "\n",
    "def generate(prompt):\n",
    "    result = ollama.generate(model='llama3:70b', prompt=prompt)\n",
    "    response = result['response']\n",
    "    response = response.strip()\n",
    "    return response\n",
    "\n",
    "for filename in tqdm(os.listdir(dir)):\n",
    "    if os.path.isdir(os.path.join(dir, filename)):\n",
    "        continue\n",
    "    with open(os.path.join(dir, filename), 'r') as f:\n",
    "        prompt = f.read()\n",
    "    response = generate(prompt)\n",
    "    with open(os.path.join(output_dir, filename), 'w') as f:\n",
    "        f.write(response)\n",
    "    # break"
   ]
  },
  {
   "cell_type": "code",
   "execution_count": 9,
   "id": "492f9256-a3b7-42c1-9059-24ee61a16f95",
   "metadata": {},
   "outputs": [
    {
     "name": "stderr",
     "output_type": "stream",
     "text": [
      "/root/miniconda3/envs/ncs_georgy/lib/python3.11/site-packages/nltk/translate/bleu_score.py:552: UserWarning: \n",
      "The hypothesis contains 0 counts of 2-gram overlaps.\n",
      "Therefore the BLEU score evaluates to 0, independently of\n",
      "how many N-gram overlaps of lower order it contains.\n",
      "Consider using lower n-gram order or use SmoothingFunction()\n",
      "  warnings.warn(_msg)\n",
      "Warning: Empty reference sentence detected; setting raw BERTScores to 0.\n"
     ]
    },
    {
     "data": {
      "text/plain": [
       "{'bleu': 9.489792883427431e-232,\n",
       " 'rouge': {'precision': 0.02040605941655089,\n",
       "  'recall': 0.08386638237384506,\n",
       "  'f1': 0.02580246351211261},\n",
       " 'meteor': 0.14708962885571944,\n",
       " 'bertscore': {'precision': 0.7117358446121216,\n",
       "  'recall': 0.7316445112228394,\n",
       "  'f1': 0.721246600151062}}"
      ]
     },
     "execution_count": 9,
     "metadata": {},
     "output_type": "execute_result"
    }
   ],
   "source": [
    "common_folder = os.path.join('/', 'home', 'user', 'georgy', 'DatasetSummarization', 'DatasetSummarization', 'KaggleMigration')\n",
    "responses_folder = os.path.join(common_folder, 'Experiments', 'DifferentModels', 'llama3-big', 'PotentialUsesResponses')\n",
    "references_folder = os.path.join(common_folder, 'KaggleMigrationDataset', 'PotentialUsesReferences')\n",
    "\n",
    "references = load_texts(references_folder)\n",
    "responses = load_texts(responses_folder)\n",
    "\n",
    "evaluator.calculate_scores(responses, references)"
   ]
  },
  {
   "cell_type": "code",
   "execution_count": null,
   "id": "19f42fd4-1794-4737-8b46-435c0288793b",
   "metadata": {},
   "outputs": [],
   "source": []
  }
 ],
 "metadata": {
  "kernelspec": {
   "display_name": "ncs_georgy",
   "language": "python",
   "name": "ncs_georgy"
  },
  "language_info": {
   "codemirror_mode": {
    "name": "ipython",
    "version": 3
   },
   "file_extension": ".py",
   "mimetype": "text/x-python",
   "name": "python",
   "nbconvert_exporter": "python",
   "pygments_lexer": "ipython3",
   "version": "3.11.4"
  }
 },
 "nbformat": 4,
 "nbformat_minor": 5
}
