{
 "cells": [
  {
   "cell_type": "code",
   "execution_count": 3,
   "id": "3311b1a4-3676-472f-a951-923955e6fff4",
   "metadata": {},
   "outputs": [],
   "source": [
    "import os\n",
    "import ollama"
   ]
  },
  {
   "cell_type": "code",
   "execution_count": 4,
   "id": "ec07c541-c4f9-40b7-848f-153b48050922",
   "metadata": {},
   "outputs": [],
   "source": [
    "import sys\n",
    "sys.path.insert(1, '/home/user/georgy/DatasetSummarization/MetricsEvaluation')\n",
    "\n",
    "from metrics_evaluation import MetricsEvaluator\n",
    "\n",
    "evaluator = MetricsEvaluator()"
   ]
  },
  {
   "cell_type": "code",
   "execution_count": 5,
   "id": "eb31a531-e33c-4c70-9d85-1d89470dfc95",
   "metadata": {},
   "outputs": [],
   "source": [
    "import os\n",
    "\n",
    "def load_texts(path):\n",
    "    texts = []\n",
    "    for filename in os.listdir(path):\n",
    "        full_filename = os.path.join(path, filename)\n",
    "        if os.path.isdir(full_filename):\n",
    "            continue\n",
    "        with open(full_filename) as f:\n",
    "            texts.append(f.read())\n",
    "    return texts"
   ]
  },
  {
   "cell_type": "markdown",
   "id": "94bd239d-e33e-483f-9bbe-048750773af0",
   "metadata": {},
   "source": [
    "## Collection method"
   ]
  },
  {
   "cell_type": "code",
   "execution_count": 6,
   "id": "fd393dde-c48a-48ff-b4f0-461bd4368e17",
   "metadata": {},
   "outputs": [
    {
     "name": "stderr",
     "output_type": "stream",
     "text": [
      "100%|██████████| 68/68 [06:40<00:00,  5.89s/it]\n"
     ]
    }
   ],
   "source": [
    "from tqdm import tqdm\n",
    "\n",
    "dir = os.path.join('/', 'home', 'user', 'georgy', 'DatasetSummarization', 'DatasetSummarization', 'KaggleMigration', 'KaggleMigrationDataset', 'CollectionMethodPrompts')\n",
    "output_dir = 'CollectionMethodResponses'\n",
    "\n",
    "def generate(prompt):\n",
    "    result = ollama.generate(model='llama3', prompt=prompt)\n",
    "    response = result['response']\n",
    "    response = response.strip()\n",
    "    return response\n",
    "\n",
    "for filename in tqdm(os.listdir(dir)):\n",
    "    if os.path.isdir(os.path.join(dir, filename)):\n",
    "        continue\n",
    "    with open(os.path.join(dir, filename), 'r') as f:\n",
    "        prompt = f.read()\n",
    "    response = generate(prompt)\n",
    "    with open(os.path.join(output_dir, filename), 'w') as f:\n",
    "        f.write(response)\n",
    "    # break"
   ]
  },
  {
   "cell_type": "code",
   "execution_count": 7,
   "id": "6c607a52-1f41-45fe-a379-3fb2de745468",
   "metadata": {},
   "outputs": [
    {
     "name": "stderr",
     "output_type": "stream",
     "text": [
      "/root/miniconda3/envs/ncs_georgy/lib/python3.11/site-packages/nltk/translate/bleu_score.py:552: UserWarning: \n",
      "The hypothesis contains 0 counts of 2-gram overlaps.\n",
      "Therefore the BLEU score evaluates to 0, independently of\n",
      "how many N-gram overlaps of lower order it contains.\n",
      "Consider using lower n-gram order or use SmoothingFunction()\n",
      "  warnings.warn(_msg)\n",
      "/root/miniconda3/envs/ncs_georgy/lib/python3.11/site-packages/nltk/translate/bleu_score.py:552: UserWarning: \n",
      "The hypothesis contains 0 counts of 3-gram overlaps.\n",
      "Therefore the BLEU score evaluates to 0, independently of\n",
      "how many N-gram overlaps of lower order it contains.\n",
      "Consider using lower n-gram order or use SmoothingFunction()\n",
      "  warnings.warn(_msg)\n",
      "/root/miniconda3/envs/ncs_georgy/lib/python3.11/site-packages/nltk/translate/bleu_score.py:552: UserWarning: \n",
      "The hypothesis contains 0 counts of 4-gram overlaps.\n",
      "Therefore the BLEU score evaluates to 0, independently of\n",
      "how many N-gram overlaps of lower order it contains.\n",
      "Consider using lower n-gram order or use SmoothingFunction()\n",
      "  warnings.warn(_msg)\n",
      "Warning: Empty reference sentence detected; setting raw BERTScores to 0.\n"
     ]
    },
    {
     "data": {
      "text/plain": [
       "{'bleu': 1.062270889889495e-231,\n",
       " 'rouge': {'precision': 0.1223581291403943,\n",
       "  'recall': 0.2407960199004975,\n",
       "  'f1': 0.14363659848936386},\n",
       " 'meteor': 0.0740762632891679,\n",
       " 'bertscore': {'precision': 0.5985372066497803,\n",
       "  'recall': 0.6969062089920044,\n",
       "  'f1': 0.6432464122772217}}"
      ]
     },
     "execution_count": 7,
     "metadata": {},
     "output_type": "execute_result"
    }
   ],
   "source": [
    "common_folder = os.path.join('/', 'home', 'user', 'georgy', 'DatasetSummarization', 'DatasetSummarization', 'KaggleMigration')\n",
    "responses_folder = os.path.join(common_folder, 'Experiments', 'DifferentModels', 'llama3-small', 'CollectionMethodResponses')\n",
    "references_folder = os.path.join(common_folder, 'KaggleMigrationDataset', 'CollectionMethodReferences')\n",
    "\n",
    "references = load_texts(references_folder)\n",
    "responses = load_texts(responses_folder)\n",
    "\n",
    "evaluator.calculate_scores(responses, references)"
   ]
  },
  {
   "cell_type": "markdown",
   "id": "ee9ffae5-8b10-4656-8d9c-1efe456c936a",
   "metadata": {},
   "source": [
    "## Dataset Structure"
   ]
  },
  {
   "cell_type": "code",
   "execution_count": 8,
   "id": "5148e1dc-075f-4773-b43b-178e7cb21a4e",
   "metadata": {},
   "outputs": [
    {
     "name": "stderr",
     "output_type": "stream",
     "text": [
      "100%|██████████| 67/67 [02:35<00:00,  2.32s/it]\n"
     ]
    }
   ],
   "source": [
    "from tqdm import tqdm\n",
    "\n",
    "dir = os.path.join(\n",
    "    '/', 'home', 'user', 'georgy', 'DatasetSummarization', 'DatasetSummarization', 'KaggleMigration',\n",
    "    'KaggleMigrationDataset', 'DatasetStructurePrompts'\n",
    ")\n",
    "output_dir = 'DatasetStructureResponses'\n",
    "\n",
    "def generate(prompt):\n",
    "    result = ollama.generate(model='llama3', prompt=prompt)\n",
    "    response = result['response']\n",
    "    response = response.strip()\n",
    "    return response\n",
    "\n",
    "for filename in tqdm(os.listdir(dir)):\n",
    "    if os.path.isdir(os.path.join(dir, filename)):\n",
    "        continue\n",
    "    with open(os.path.join(dir, filename), 'r') as f:\n",
    "        prompt = f.read()\n",
    "    response = generate(prompt)\n",
    "    with open(os.path.join(output_dir, filename), 'w') as f:\n",
    "        f.write(response)\n",
    "    # break"
   ]
  },
  {
   "cell_type": "code",
   "execution_count": 9,
   "id": "5b3ae0ed-7b8e-4ed2-b975-968dbb073cdb",
   "metadata": {},
   "outputs": [
    {
     "name": "stderr",
     "output_type": "stream",
     "text": [
      "/root/miniconda3/envs/ncs_georgy/lib/python3.11/site-packages/nltk/translate/bleu_score.py:552: UserWarning: \n",
      "The hypothesis contains 0 counts of 3-gram overlaps.\n",
      "Therefore the BLEU score evaluates to 0, independently of\n",
      "how many N-gram overlaps of lower order it contains.\n",
      "Consider using lower n-gram order or use SmoothingFunction()\n",
      "  warnings.warn(_msg)\n",
      "/root/miniconda3/envs/ncs_georgy/lib/python3.11/site-packages/nltk/translate/bleu_score.py:552: UserWarning: \n",
      "The hypothesis contains 0 counts of 4-gram overlaps.\n",
      "Therefore the BLEU score evaluates to 0, independently of\n",
      "how many N-gram overlaps of lower order it contains.\n",
      "Consider using lower n-gram order or use SmoothingFunction()\n",
      "  warnings.warn(_msg)\n",
      "Warning: Empty reference sentence detected; setting raw BERTScores to 0.\n"
     ]
    },
    {
     "data": {
      "text/plain": [
       "{'bleu': 9.57829336703708e-156,\n",
       " 'rouge': {'precision': 0.37030737135270086,\n",
       "  'recall': 0.44458958422609096,\n",
       "  'f1': 0.35939426264238356},\n",
       " 'meteor': 0.1238476900119319,\n",
       " 'bertscore': {'precision': 0.6922311186790466,\n",
       "  'recall': 0.688173234462738,\n",
       "  'f1': 0.6896885633468628}}"
      ]
     },
     "execution_count": 9,
     "metadata": {},
     "output_type": "execute_result"
    }
   ],
   "source": [
    "common_folder = os.path.join('/', 'home', 'user', 'georgy', 'DatasetSummarization', 'DatasetSummarization', 'KaggleMigration')\n",
    "responses_folder = os.path.join(common_folder, 'Experiments', 'DifferentModels', 'llama3-small', 'DatasetStructureResponses')\n",
    "references_folder = os.path.join(common_folder, 'KaggleMigrationDataset', 'DatasetStructureReferences')\n",
    "\n",
    "references = load_texts(references_folder)\n",
    "responses = load_texts(responses_folder)\n",
    "\n",
    "evaluator.calculate_scores(responses, references)"
   ]
  },
  {
   "cell_type": "markdown",
   "id": "c9c93b91-f8a4-419d-9978-7f9281185ff9",
   "metadata": {},
   "source": [
    "## Potential Uses"
   ]
  },
  {
   "cell_type": "code",
   "execution_count": 10,
   "id": "621883dc-065f-4c4a-8c59-2c2c9a063cda",
   "metadata": {},
   "outputs": [
    {
     "name": "stderr",
     "output_type": "stream",
     "text": [
      "100%|██████████| 67/67 [02:49<00:00,  2.52s/it]\n"
     ]
    }
   ],
   "source": [
    "from tqdm import tqdm\n",
    "\n",
    "dir = os.path.join(\n",
    "    '/', 'home', 'user', 'georgy', 'DatasetSummarization', 'DatasetSummarization', 'KaggleMigration',\n",
    "    'KaggleMigrationDataset', 'PotentialUsesPrompts'\n",
    ")\n",
    "output_dir = 'PotentialUsesResponses'\n",
    "\n",
    "def generate(prompt):\n",
    "    result = ollama.generate(model='llama3', prompt=prompt)\n",
    "    response = result['response']\n",
    "    response = response.strip()\n",
    "    return response\n",
    "\n",
    "for filename in tqdm(os.listdir(dir)):\n",
    "    if os.path.isdir(os.path.join(dir, filename)):\n",
    "        continue\n",
    "    with open(os.path.join(dir, filename), 'r') as f:\n",
    "        prompt = f.read()\n",
    "    response = generate(prompt)\n",
    "    with open(os.path.join(output_dir, filename), 'w') as f:\n",
    "        f.write(response)\n",
    "    # break"
   ]
  },
  {
   "cell_type": "code",
   "execution_count": 11,
   "id": "492f9256-a3b7-42c1-9059-24ee61a16f95",
   "metadata": {},
   "outputs": [
    {
     "name": "stderr",
     "output_type": "stream",
     "text": [
      "Warning: Empty reference sentence detected; setting raw BERTScores to 0.\n"
     ]
    },
    {
     "data": {
      "text/plain": [
       "{'bleu': 1.0013122165335779e-155,\n",
       " 'rouge': {'precision': 0.015429346772630354,\n",
       "  'recall': 0.03855721393034826,\n",
       "  'f1': 0.01590730557737628},\n",
       " 'meteor': 0.13626149200745274,\n",
       " 'bertscore': {'precision': 0.6998699903488159,\n",
       "  'recall': 0.7316150069236755,\n",
       "  'f1': 0.7151075005531311}}"
      ]
     },
     "execution_count": 11,
     "metadata": {},
     "output_type": "execute_result"
    }
   ],
   "source": [
    "common_folder = os.path.join('/', 'home', 'user', 'georgy', 'DatasetSummarization', 'DatasetSummarization', 'KaggleMigration')\n",
    "responses_folder = os.path.join(common_folder, 'Experiments', 'DifferentModels', 'llama3-small', 'PotentialUsesResponses')\n",
    "references_folder = os.path.join(common_folder, 'KaggleMigrationDataset', 'PotentialUsesReferences')\n",
    "\n",
    "references = load_texts(references_folder)\n",
    "responses = load_texts(responses_folder)\n",
    "\n",
    "evaluator.calculate_scores(responses, references)"
   ]
  },
  {
   "cell_type": "code",
   "execution_count": null,
   "id": "19f42fd4-1794-4737-8b46-435c0288793b",
   "metadata": {},
   "outputs": [],
   "source": []
  }
 ],
 "metadata": {
  "kernelspec": {
   "display_name": "ncs_georgy",
   "language": "python",
   "name": "ncs_georgy"
  },
  "language_info": {
   "codemirror_mode": {
    "name": "ipython",
    "version": 3
   },
   "file_extension": ".py",
   "mimetype": "text/x-python",
   "name": "python",
   "nbconvert_exporter": "python",
   "pygments_lexer": "ipython3",
   "version": "3.11.4"
  }
 },
 "nbformat": 4,
 "nbformat_minor": 5
}
