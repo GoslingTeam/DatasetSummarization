{
 "cells": [
  {
   "cell_type": "code",
   "execution_count": 51,
   "id": "5f2825a1-a59f-43ae-a55a-46d797f5f9c3",
   "metadata": {},
   "outputs": [],
   "source": [
    "from nltk.translate.bleu_score import corpus_bleu, sentence_bleu\n",
    "from nltk.translate.meteor_score import single_meteor_score\n",
    "from rouge_score import rouge_scorer\n",
    "import bert_score\n",
    "import numpy as np\n",
    "\n",
    "class MetricsEvaluator:\n",
    "    def __init__(self):\n",
    "        pass\n",
    "\n",
    "    def calculate_corpus_bleu(self, predictions, references, n=4):\n",
    "        tokenized_predictions = [item.split() for item in predictions]\n",
    "        tokenized_references = [item.split() for item in references]\n",
    "        return corpus_bleu(\n",
    "            list_of_references=tokenized_predictions,\n",
    "            hypotheses=tokenized_references,\n",
    "            weights=(1 / n,) * n,\n",
    "        )\n",
    "\n",
    "    def calculate_bertscore(self, predictions, references):\n",
    "        bs_p, bs_r, bs_f1 = bert_score.score(\n",
    "            predictions,\n",
    "            references,\n",
    "            model_type=\"bert-base-multilingual-cased\",\n",
    "        )\n",
    "        mean_bs_p = bs_p.mean().item()\n",
    "        mean_bs_r = bs_r.mean().item()\n",
    "        mean_bs_f1 = bs_f1.mean().item()\n",
    "        return {\n",
    "            'precision': mean_bs_p,\n",
    "            'recall': mean_bs_r,\n",
    "            'f1': mean_bs_f1\n",
    "        }\n",
    "\n",
    "    def calculate_meteor_score(self, predictions, references):\n",
    "        tokenized_predictions = [item.split() for item in predictions]\n",
    "        tokenized_references = [item.split() for item in references]\n",
    "        score = [\n",
    "            single_meteor_score(pred, ref)\n",
    "            for pred, ref in zip(tokenized_predictions, tokenized_references)\n",
    "        ]\n",
    "        mean_score = np.mean(score)\n",
    "        return mean_score\n",
    "\n",
    "    def calculate_rouge_score(self, predictions, references):\n",
    "        scorer = rouge_scorer.RougeScorer(['rougeL'], use_stemmer=True)\n",
    "        results = [\n",
    "            scorer.score(ref, pred)['rougeL']\n",
    "            for pred, ref in zip(predictions, references)\n",
    "        ]\n",
    "        mean_p = np.mean([res.precision for res in results])\n",
    "        mean_r = np.mean([res.recall for res in results])\n",
    "        mean_f1 = np.mean([res.fmeasure for res in results])\n",
    "        return {\n",
    "            'precision': mean_p,\n",
    "            'recall': mean_r,\n",
    "            'f1': mean_f1\n",
    "        }\n",
    "\n",
    "    def calculate_scores(self, predictions, references):\n",
    "        bleu_score = self.calculate_corpus_bleu(predictions, references)\n",
    "        rouge_score = self.calculate_rouge_score(predictions, references)\n",
    "        meteor_score = self.calculate_meteor_score(predictions, references)\n",
    "        bert_score = self.calculate_bertscore(predictions, references)\n",
    "        return {\n",
    "            'bleu': bleu_score,\n",
    "            'rouge': rouge_score,\n",
    "            'meteor': meteor_score,\n",
    "            'bertscore': bert_score\n",
    "        }"
   ]
  },
  {
   "cell_type": "code",
   "execution_count": 52,
   "id": "33c00f87-fcb7-4fe9-9b11-8c067e38cf99",
   "metadata": {},
   "outputs": [],
   "source": [
    "references = [\n",
    "    'Сбор данных включал генерацию ответов на различные вопросы по программированию моделью CodeLlama.',\n",
    "    'Датасет \"52,000 Animation Movie Details (2024)\" содержит подробную информацию о 52,000 анимационных фильмах, собранную с помощью API TMDB.'\n",
    "]\n",
    "\n",
    "predictions = [\n",
    "    'Данные в датасете \"Coding Questions Solved With Code Llama 70B\" содержат 19 983 ответов на задачи по программированию, которые были генерированы искусственным интеллектом и подготовлены для использования в обучении и тестировании алгоритмов кода. В ключевых словах этого датасета присутствуют термины \"Земля и природа\", \"компьютерные науки\" и \"программирование\". Файл с именем \"responses.jsonl\" содержит список ответов в формате JSONL, где каждый элемент списка является отдельным ответом на задачу.\\nВ ответах на вопросы данного датасета можно найти решения на различные программные языки, такие как Python, которые были созданы для решения определенных задач. В данных также присутствуют примеры кода, которые могут использоваться в решении различных задач и вызывать разные результаты при выполнении. Благодаря большому количеству ответов на вопросы в этом датасете можно использовать его для обучения и тестирования алгоритмов кода, а также для получения дополнительного понимания языков программирования и их применений в реальных ситуациях.',\n",
    "    'Данные из датасета \"52,000 Animation Movie Details 2024\" были соскрплены из API TMDB (The Movie Database) и содержат детализированную информацию о анимационных фильмах.'\n",
    "]"
   ]
  },
  {
   "cell_type": "code",
   "execution_count": 55,
   "id": "3ebcc3b3-3fb7-4207-9ba7-c3b10d4ef41a",
   "metadata": {},
   "outputs": [
    {
     "name": "stdout",
     "output_type": "stream",
     "text": [
      "{'bertscore': {'f1': 0.7411843538284302,\n",
      "               'precision': 0.7052063941955566,\n",
      "               'recall': 0.7831293344497681},\n",
      " 'bleu': 9.257324954728539e-232,\n",
      " 'meteor': 0.15703834730957372,\n",
      " 'rouge': {'f1': 0.380952380952381,\n",
      "           'precision': 0.36363636363636365,\n",
      "           'recall': 0.4}}\n"
     ]
    }
   ],
   "source": [
    "import pprint\n",
    "\n",
    "evaluator = MetricsEvaluator()\n",
    "pprint.pprint(evaluator.calculate_scores(predictions, references))"
   ]
  },
  {
   "cell_type": "code",
   "execution_count": null,
   "id": "0a6b659f-cfc5-4aa2-8844-10baca40e396",
   "metadata": {},
   "outputs": [],
   "source": []
  },
  {
   "cell_type": "code",
   "execution_count": null,
   "id": "d18f2016-1e50-4ab6-9782-e255090fb314",
   "metadata": {},
   "outputs": [],
   "source": []
  }
 ],
 "metadata": {
  "kernelspec": {
   "display_name": "ncs_georgy",
   "language": "python",
   "name": "ncs_georgy"
  },
  "language_info": {
   "codemirror_mode": {
    "name": "ipython",
    "version": 3
   },
   "file_extension": ".py",
   "mimetype": "text/x-python",
   "name": "python",
   "nbconvert_exporter": "python",
   "pygments_lexer": "ipython3",
   "version": "3.11.4"
  }
 },
 "nbformat": 4,
 "nbformat_minor": 5
}
